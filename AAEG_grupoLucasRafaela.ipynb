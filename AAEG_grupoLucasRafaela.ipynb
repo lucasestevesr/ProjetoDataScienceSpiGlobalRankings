{
 "cells": [
  {
   "cell_type": "markdown",
   "metadata": {
    "slideshow": {
     "slide_type": "slide"
    }
   },
   "source": [
    "## Metódos Quantitativos"
   ]
  },
  {
   "cell_type": "markdown",
   "metadata": {
    "slideshow": {
     "slide_type": "notes"
    }
   },
   "source": [
    "O objetivo desse trabalho é examinar a estrutura e configuração dos dados, além de aprender sobre o relacionamento entre as variáveis da base de dados.\n",
    "\n",
    "A $\\textit{Análise Exploratória de Dados}$ inclui um conjunto de ferramentas descritivas e gráficas para a buscar padrões e tendências que desempenharam o papel de hipóteses para uma análise completa.\n",
    "\n",
    "Empregando técnicas $\\textit{estatísticas descritivas e gráficas}$ para estudar o conjunto de dados, detectando $\\textit{outliers e anomalias}$, e $\\textit{comunicando de forma eficaz os resultados do modelo.}$"
   ]
  },
  {
   "cell_type": "code",
   "execution_count": 3,
   "metadata": {
    "slideshow": {
     "slide_type": "fragment"
    }
   },
   "outputs": [],
   "source": [
    "import pandas as pd\n",
    "import requests\n",
    "import statsmodels.api as sm\n",
    "import urllib\n",
    "from urllib import request, response, error, parse \n",
    "from urllib.request import urlopen\n",
    "from bs4 import BeautifulSoup, element"
   ]
  },
  {
   "cell_type": "markdown",
   "metadata": {
    "slideshow": {
     "slide_type": "slide"
    }
   },
   "source": [
    "### 1. Extraíndo os Dados."
   ]
  },
  {
   "cell_type": "code",
   "execution_count": 4,
   "metadata": {
    "slideshow": {
     "slide_type": "fragment"
    }
   },
   "outputs": [
    {
     "name": "stdout",
     "output_type": "stream",
     "text": [
      "Requisição bem sucedida!\n"
     ]
    }
   ],
   "source": [
    "req = requests.get('https://projects.fivethirtyeight.com/global-club-soccer-rankings/')\n",
    "if req.status_code == 200:\n",
    "    print ('Requisição bem sucedida!')\n"
   ]
  },
  {
   "cell_type": "code",
   "execution_count": 5,
   "metadata": {
    "slideshow": {
     "slide_type": "fragment"
    }
   },
   "outputs": [
    {
     "name": "stdout",
     "output_type": "stream",
     "text": [
      "Global Club Soccer Rankings | FiveThirtyEight\n"
     ]
    }
   ],
   "source": [
    "url = \"https://projects.fivethirtyeight.com/global-club-soccer-rankings/\"\n",
    "html = urlopen(url)\n",
    "soup = BeautifulSoup(html,\"lxml\")\n",
    "title = soup.title\n",
    "titleText = title.get_text()\n",
    "print(titleText)"
   ]
  },
  {
   "cell_type": "code",
   "execution_count": 6,
   "metadata": {},
   "outputs": [],
   "source": [
    "table = soup.find('table', {'class':'all-teams'})"
   ]
  },
  {
   "cell_type": "code",
   "execution_count": 7,
   "metadata": {},
   "outputs": [],
   "source": [
    "table_str = str(table)"
   ]
  },
  {
   "cell_type": "code",
   "execution_count": 8,
   "metadata": {
    "scrolled": true
   },
   "outputs": [
    {
     "data": {
      "text/html": [
       "<div>\n",
       "<style scoped>\n",
       "    .dataframe tbody tr th:only-of-type {\n",
       "        vertical-align: middle;\n",
       "    }\n",
       "\n",
       "    .dataframe tbody tr th {\n",
       "        vertical-align: top;\n",
       "    }\n",
       "\n",
       "    .dataframe thead tr th {\n",
       "        text-align: left;\n",
       "    }\n",
       "</style>\n",
       "<table border=\"1\" class=\"dataframe\">\n",
       "  <thead>\n",
       "    <tr>\n",
       "      <th></th>\n",
       "      <th>Unnamed: 0_level_0</th>\n",
       "      <th>Unnamed: 1_level_0</th>\n",
       "      <th>Unnamed: 2_level_0</th>\n",
       "      <th>Unnamed: 3_level_0</th>\n",
       "      <th>Unnamed: 4_level_0</th>\n",
       "      <th colspan=\"3\" halign=\"left\">Team rating</th>\n",
       "    </tr>\n",
       "    <tr>\n",
       "      <th></th>\n",
       "      <th>Rank</th>\n",
       "      <th>1-week change</th>\n",
       "      <th>team</th>\n",
       "      <th>League</th>\n",
       "      <th>League country</th>\n",
       "      <th>off.</th>\n",
       "      <th>def.</th>\n",
       "      <th>spi</th>\n",
       "    </tr>\n",
       "  </thead>\n",
       "  <tbody>\n",
       "    <tr>\n",
       "      <th>0</th>\n",
       "      <td>1</td>\n",
       "      <td>NaN</td>\n",
       "      <td>Man. City</td>\n",
       "      <td>Premier League</td>\n",
       "      <td>England</td>\n",
       "      <td>3.2</td>\n",
       "      <td>0.2</td>\n",
       "      <td>94.8</td>\n",
       "    </tr>\n",
       "    <tr>\n",
       "      <th>1</th>\n",
       "      <td>2</td>\n",
       "      <td>NaN</td>\n",
       "      <td>Bayern Munich</td>\n",
       "      <td>Bundesliga</td>\n",
       "      <td>Germany</td>\n",
       "      <td>3.5</td>\n",
       "      <td>0.4</td>\n",
       "      <td>94.4</td>\n",
       "    </tr>\n",
       "    <tr>\n",
       "      <th>2</th>\n",
       "      <td>3</td>\n",
       "      <td>NaN</td>\n",
       "      <td>Liverpool</td>\n",
       "      <td>Premier League</td>\n",
       "      <td>England</td>\n",
       "      <td>2.9</td>\n",
       "      <td>0.3</td>\n",
       "      <td>91.9</td>\n",
       "    </tr>\n",
       "    <tr>\n",
       "      <th>3</th>\n",
       "      <td>4</td>\n",
       "      <td>NaN</td>\n",
       "      <td>Barcelona</td>\n",
       "      <td>La Liga</td>\n",
       "      <td>Spain</td>\n",
       "      <td>2.9</td>\n",
       "      <td>0.4</td>\n",
       "      <td>90.3</td>\n",
       "    </tr>\n",
       "    <tr>\n",
       "      <th>4</th>\n",
       "      <td>5</td>\n",
       "      <td>NaN</td>\n",
       "      <td>Real Madrid</td>\n",
       "      <td>La Liga</td>\n",
       "      <td>Spain</td>\n",
       "      <td>2.7</td>\n",
       "      <td>0.4</td>\n",
       "      <td>89.5</td>\n",
       "    </tr>\n",
       "    <tr>\n",
       "      <th>5</th>\n",
       "      <td>6</td>\n",
       "      <td>NaN</td>\n",
       "      <td>PSG</td>\n",
       "      <td>Ligue 1</td>\n",
       "      <td>France</td>\n",
       "      <td>3.2</td>\n",
       "      <td>0.7</td>\n",
       "      <td>89.2</td>\n",
       "    </tr>\n",
       "    <tr>\n",
       "      <th>6</th>\n",
       "      <td>7</td>\n",
       "      <td>NaN</td>\n",
       "      <td>RB Leipzig</td>\n",
       "      <td>Bundesliga</td>\n",
       "      <td>Germany</td>\n",
       "      <td>2.6</td>\n",
       "      <td>0.4</td>\n",
       "      <td>88.1</td>\n",
       "    </tr>\n",
       "    <tr>\n",
       "      <th>7</th>\n",
       "      <td>8</td>\n",
       "      <td>NaN</td>\n",
       "      <td>Man. United</td>\n",
       "      <td>Premier League</td>\n",
       "      <td>England</td>\n",
       "      <td>2.4</td>\n",
       "      <td>0.4</td>\n",
       "      <td>86.2</td>\n",
       "    </tr>\n",
       "    <tr>\n",
       "      <th>8</th>\n",
       "      <td>9</td>\n",
       "      <td>NaN</td>\n",
       "      <td>Chelsea</td>\n",
       "      <td>Premier League</td>\n",
       "      <td>England</td>\n",
       "      <td>2.4</td>\n",
       "      <td>0.5</td>\n",
       "      <td>85.5</td>\n",
       "    </tr>\n",
       "    <tr>\n",
       "      <th>9</th>\n",
       "      <td>10</td>\n",
       "      <td>NaN</td>\n",
       "      <td>Dortmund</td>\n",
       "      <td>Bundesliga</td>\n",
       "      <td>Germany</td>\n",
       "      <td>2.6</td>\n",
       "      <td>0.6</td>\n",
       "      <td>85.4</td>\n",
       "    </tr>\n",
       "    <tr>\n",
       "      <th>10</th>\n",
       "      <td>11</td>\n",
       "      <td>NaN</td>\n",
       "      <td>Juventus</td>\n",
       "      <td>Serie A</td>\n",
       "      <td>Italy</td>\n",
       "      <td>2.4</td>\n",
       "      <td>0.5</td>\n",
       "      <td>84.3</td>\n",
       "    </tr>\n",
       "    <tr>\n",
       "      <th>11</th>\n",
       "      <td>12</td>\n",
       "      <td>NaN</td>\n",
       "      <td>Atlético Madrid</td>\n",
       "      <td>La Liga</td>\n",
       "      <td>Spain</td>\n",
       "      <td>2.1</td>\n",
       "      <td>0.4</td>\n",
       "      <td>83.8</td>\n",
       "    </tr>\n",
       "    <tr>\n",
       "      <th>12</th>\n",
       "      <td>13</td>\n",
       "      <td>NaN</td>\n",
       "      <td>Leverkusen</td>\n",
       "      <td>Bundesliga</td>\n",
       "      <td>Germany</td>\n",
       "      <td>2.4</td>\n",
       "      <td>0.6</td>\n",
       "      <td>82.9</td>\n",
       "    </tr>\n",
       "    <tr>\n",
       "      <th>13</th>\n",
       "      <td>14</td>\n",
       "      <td>NaN</td>\n",
       "      <td>Atalanta</td>\n",
       "      <td>Serie A</td>\n",
       "      <td>Italy</td>\n",
       "      <td>2.7</td>\n",
       "      <td>0.7</td>\n",
       "      <td>82.8</td>\n",
       "    </tr>\n",
       "    <tr>\n",
       "      <th>14</th>\n",
       "      <td>15</td>\n",
       "      <td>NaN</td>\n",
       "      <td>Leicester</td>\n",
       "      <td>Premier League</td>\n",
       "      <td>England</td>\n",
       "      <td>2.2</td>\n",
       "      <td>0.5</td>\n",
       "      <td>81.6</td>\n",
       "    </tr>\n",
       "    <tr>\n",
       "      <th>15</th>\n",
       "      <td>16</td>\n",
       "      <td>NaN</td>\n",
       "      <td>Getafe</td>\n",
       "      <td>La Liga</td>\n",
       "      <td>Spain</td>\n",
       "      <td>1.8</td>\n",
       "      <td>0.3</td>\n",
       "      <td>81.3</td>\n",
       "    </tr>\n",
       "    <tr>\n",
       "      <th>16</th>\n",
       "      <td>17</td>\n",
       "      <td>NaN</td>\n",
       "      <td>Wolves</td>\n",
       "      <td>Premier League</td>\n",
       "      <td>England</td>\n",
       "      <td>2.0</td>\n",
       "      <td>0.5</td>\n",
       "      <td>80.5</td>\n",
       "    </tr>\n",
       "    <tr>\n",
       "      <th>17</th>\n",
       "      <td>18</td>\n",
       "      <td>NaN</td>\n",
       "      <td>Sevilla</td>\n",
       "      <td>La Liga</td>\n",
       "      <td>Spain</td>\n",
       "      <td>2.2</td>\n",
       "      <td>0.6</td>\n",
       "      <td>80.3</td>\n",
       "    </tr>\n",
       "    <tr>\n",
       "      <th>18</th>\n",
       "      <td>19</td>\n",
       "      <td>NaN</td>\n",
       "      <td>Inter Milan</td>\n",
       "      <td>Serie A</td>\n",
       "      <td>Italy</td>\n",
       "      <td>2.3</td>\n",
       "      <td>0.7</td>\n",
       "      <td>79.5</td>\n",
       "    </tr>\n",
       "    <tr>\n",
       "      <th>19</th>\n",
       "      <td>20</td>\n",
       "      <td>NaN</td>\n",
       "      <td>Everton</td>\n",
       "      <td>Premier League</td>\n",
       "      <td>England</td>\n",
       "      <td>2.1</td>\n",
       "      <td>0.6</td>\n",
       "      <td>77.7</td>\n",
       "    </tr>\n",
       "    <tr>\n",
       "      <th>20</th>\n",
       "      <td>21</td>\n",
       "      <td>NaN</td>\n",
       "      <td>Real Sociedad</td>\n",
       "      <td>La Liga</td>\n",
       "      <td>Spain</td>\n",
       "      <td>2.1</td>\n",
       "      <td>0.7</td>\n",
       "      <td>77.0</td>\n",
       "    </tr>\n",
       "    <tr>\n",
       "      <th>21</th>\n",
       "      <td>22</td>\n",
       "      <td>NaN</td>\n",
       "      <td>Arsenal</td>\n",
       "      <td>Premier League</td>\n",
       "      <td>England</td>\n",
       "      <td>2.1</td>\n",
       "      <td>0.7</td>\n",
       "      <td>76.8</td>\n",
       "    </tr>\n",
       "    <tr>\n",
       "      <th>22</th>\n",
       "      <td>23</td>\n",
       "      <td>NaN</td>\n",
       "      <td>Zenit</td>\n",
       "      <td>Premier League</td>\n",
       "      <td>Russia</td>\n",
       "      <td>2.0</td>\n",
       "      <td>0.6</td>\n",
       "      <td>76.7</td>\n",
       "    </tr>\n",
       "    <tr>\n",
       "      <th>23</th>\n",
       "      <td>24</td>\n",
       "      <td>NaN</td>\n",
       "      <td>Tottenham</td>\n",
       "      <td>Premier League</td>\n",
       "      <td>England</td>\n",
       "      <td>2.2</td>\n",
       "      <td>0.8</td>\n",
       "      <td>76.6</td>\n",
       "    </tr>\n",
       "    <tr>\n",
       "      <th>24</th>\n",
       "      <td>25</td>\n",
       "      <td>NaN</td>\n",
       "      <td>Ajax</td>\n",
       "      <td>Eredivisie</td>\n",
       "      <td>Netherlands</td>\n",
       "      <td>2.5</td>\n",
       "      <td>1.0</td>\n",
       "      <td>76.5</td>\n",
       "    </tr>\n",
       "    <tr>\n",
       "      <th>25</th>\n",
       "      <td>26</td>\n",
       "      <td>NaN</td>\n",
       "      <td>Lazio</td>\n",
       "      <td>Serie A</td>\n",
       "      <td>Italy</td>\n",
       "      <td>2.2</td>\n",
       "      <td>0.7</td>\n",
       "      <td>76.4</td>\n",
       "    </tr>\n",
       "    <tr>\n",
       "      <th>26</th>\n",
       "      <td>27</td>\n",
       "      <td>NaN</td>\n",
       "      <td>Gladbach</td>\n",
       "      <td>Bundesliga</td>\n",
       "      <td>Germany</td>\n",
       "      <td>2.2</td>\n",
       "      <td>0.8</td>\n",
       "      <td>75.9</td>\n",
       "    </tr>\n",
       "    <tr>\n",
       "      <th>27</th>\n",
       "      <td>28</td>\n",
       "      <td>NaN</td>\n",
       "      <td>Roma</td>\n",
       "      <td>Serie A</td>\n",
       "      <td>Italy</td>\n",
       "      <td>2.2</td>\n",
       "      <td>0.8</td>\n",
       "      <td>75.2</td>\n",
       "    </tr>\n",
       "    <tr>\n",
       "      <th>28</th>\n",
       "      <td>29</td>\n",
       "      <td>NaN</td>\n",
       "      <td>RB Salzburg</td>\n",
       "      <td>Bundesliga</td>\n",
       "      <td>Austria</td>\n",
       "      <td>2.7</td>\n",
       "      <td>1.2</td>\n",
       "      <td>75.1</td>\n",
       "    </tr>\n",
       "    <tr>\n",
       "      <th>29</th>\n",
       "      <td>30</td>\n",
       "      <td>NaN</td>\n",
       "      <td>Napoli</td>\n",
       "      <td>Serie A</td>\n",
       "      <td>Italy</td>\n",
       "      <td>2.1</td>\n",
       "      <td>0.8</td>\n",
       "      <td>75.1</td>\n",
       "    </tr>\n",
       "    <tr>\n",
       "      <th>...</th>\n",
       "      <td>...</td>\n",
       "      <td>...</td>\n",
       "      <td>...</td>\n",
       "      <td>...</td>\n",
       "      <td>...</td>\n",
       "      <td>...</td>\n",
       "      <td>...</td>\n",
       "      <td>...</td>\n",
       "    </tr>\n",
       "    <tr>\n",
       "      <th>599</th>\n",
       "      <td>600</td>\n",
       "      <td>NaN</td>\n",
       "      <td>Tranmere Rovers</td>\n",
       "      <td>League One</td>\n",
       "      <td>England</td>\n",
       "      <td>0.5</td>\n",
       "      <td>2.2</td>\n",
       "      <td>12.4</td>\n",
       "    </tr>\n",
       "    <tr>\n",
       "      <th>600</th>\n",
       "      <td>601</td>\n",
       "      <td>NaN</td>\n",
       "      <td>NY Red Bulls II</td>\n",
       "      <td>USL Championship</td>\n",
       "      <td>USA</td>\n",
       "      <td>0.6</td>\n",
       "      <td>2.3</td>\n",
       "      <td>12.4</td>\n",
       "    </tr>\n",
       "    <tr>\n",
       "      <th>601</th>\n",
       "      <td>602</td>\n",
       "      <td>NaN</td>\n",
       "      <td>Stellenbosch</td>\n",
       "      <td>Premier Division</td>\n",
       "      <td>South Africa</td>\n",
       "      <td>0.4</td>\n",
       "      <td>1.9</td>\n",
       "      <td>12.3</td>\n",
       "    </tr>\n",
       "    <tr>\n",
       "      <th>602</th>\n",
       "      <td>603</td>\n",
       "      <td>NaN</td>\n",
       "      <td>Port Vale</td>\n",
       "      <td>League Two</td>\n",
       "      <td>England</td>\n",
       "      <td>0.4</td>\n",
       "      <td>2.1</td>\n",
       "      <td>12.0</td>\n",
       "    </tr>\n",
       "    <tr>\n",
       "      <th>603</th>\n",
       "      <td>604</td>\n",
       "      <td>NaN</td>\n",
       "      <td>Bradford City</td>\n",
       "      <td>League Two</td>\n",
       "      <td>England</td>\n",
       "      <td>0.4</td>\n",
       "      <td>2.1</td>\n",
       "      <td>12.0</td>\n",
       "    </tr>\n",
       "    <tr>\n",
       "      <th>604</th>\n",
       "      <td>605</td>\n",
       "      <td>NaN</td>\n",
       "      <td>FC Tulsa</td>\n",
       "      <td>USL Championship</td>\n",
       "      <td>USA</td>\n",
       "      <td>0.5</td>\n",
       "      <td>2.3</td>\n",
       "      <td>11.9</td>\n",
       "    </tr>\n",
       "    <tr>\n",
       "      <th>605</th>\n",
       "      <td>606</td>\n",
       "      <td>NaN</td>\n",
       "      <td>Hartford Athletic</td>\n",
       "      <td>USL Championship</td>\n",
       "      <td>USA</td>\n",
       "      <td>0.6</td>\n",
       "      <td>2.5</td>\n",
       "      <td>11.8</td>\n",
       "    </tr>\n",
       "    <tr>\n",
       "      <th>606</th>\n",
       "      <td>607</td>\n",
       "      <td>NaN</td>\n",
       "      <td>Black Leopards</td>\n",
       "      <td>Premier Division</td>\n",
       "      <td>South Africa</td>\n",
       "      <td>0.4</td>\n",
       "      <td>2.0</td>\n",
       "      <td>11.8</td>\n",
       "    </tr>\n",
       "    <tr>\n",
       "      <th>607</th>\n",
       "      <td>608</td>\n",
       "      <td>NaN</td>\n",
       "      <td>Mansfield Town</td>\n",
       "      <td>League Two</td>\n",
       "      <td>England</td>\n",
       "      <td>0.5</td>\n",
       "      <td>2.4</td>\n",
       "      <td>11.7</td>\n",
       "    </tr>\n",
       "    <tr>\n",
       "      <th>608</th>\n",
       "      <td>609</td>\n",
       "      <td>NaN</td>\n",
       "      <td>Loudoun United</td>\n",
       "      <td>USL Championship</td>\n",
       "      <td>USA</td>\n",
       "      <td>0.6</td>\n",
       "      <td>2.4</td>\n",
       "      <td>11.6</td>\n",
       "    </tr>\n",
       "    <tr>\n",
       "      <th>609</th>\n",
       "      <td>610</td>\n",
       "      <td>NaN</td>\n",
       "      <td>Oldham Athletic</td>\n",
       "      <td>League Two</td>\n",
       "      <td>England</td>\n",
       "      <td>0.5</td>\n",
       "      <td>2.4</td>\n",
       "      <td>11.1</td>\n",
       "    </tr>\n",
       "    <tr>\n",
       "      <th>610</th>\n",
       "      <td>611</td>\n",
       "      <td>NaN</td>\n",
       "      <td>Southend United</td>\n",
       "      <td>League One</td>\n",
       "      <td>England</td>\n",
       "      <td>0.6</td>\n",
       "      <td>2.6</td>\n",
       "      <td>11.0</td>\n",
       "    </tr>\n",
       "    <tr>\n",
       "      <th>611</th>\n",
       "      <td>612</td>\n",
       "      <td>NaN</td>\n",
       "      <td>Las Vegas Lights</td>\n",
       "      <td>USL Championship</td>\n",
       "      <td>USA</td>\n",
       "      <td>0.5</td>\n",
       "      <td>2.3</td>\n",
       "      <td>10.9</td>\n",
       "    </tr>\n",
       "    <tr>\n",
       "      <th>612</th>\n",
       "      <td>613</td>\n",
       "      <td>NaN</td>\n",
       "      <td>Scunthorpe</td>\n",
       "      <td>League Two</td>\n",
       "      <td>England</td>\n",
       "      <td>0.4</td>\n",
       "      <td>2.3</td>\n",
       "      <td>10.3</td>\n",
       "    </tr>\n",
       "    <tr>\n",
       "      <th>613</th>\n",
       "      <td>614</td>\n",
       "      <td>NaN</td>\n",
       "      <td>Forest Green</td>\n",
       "      <td>League Two</td>\n",
       "      <td>England</td>\n",
       "      <td>0.4</td>\n",
       "      <td>2.2</td>\n",
       "      <td>10.2</td>\n",
       "    </tr>\n",
       "    <tr>\n",
       "      <th>614</th>\n",
       "      <td>615</td>\n",
       "      <td>NaN</td>\n",
       "      <td>Walsall</td>\n",
       "      <td>League Two</td>\n",
       "      <td>England</td>\n",
       "      <td>0.4</td>\n",
       "      <td>2.3</td>\n",
       "      <td>10.0</td>\n",
       "    </tr>\n",
       "    <tr>\n",
       "      <th>615</th>\n",
       "      <td>616</td>\n",
       "      <td>NaN</td>\n",
       "      <td>Tacoma Defiance</td>\n",
       "      <td>USL Championship</td>\n",
       "      <td>USA</td>\n",
       "      <td>0.5</td>\n",
       "      <td>2.5</td>\n",
       "      <td>9.9</td>\n",
       "    </tr>\n",
       "    <tr>\n",
       "      <th>616</th>\n",
       "      <td>617</td>\n",
       "      <td>NaN</td>\n",
       "      <td>Bolton</td>\n",
       "      <td>League One</td>\n",
       "      <td>England</td>\n",
       "      <td>0.4</td>\n",
       "      <td>2.3</td>\n",
       "      <td>9.8</td>\n",
       "    </tr>\n",
       "    <tr>\n",
       "      <th>617</th>\n",
       "      <td>618</td>\n",
       "      <td>NaN</td>\n",
       "      <td>Leyton Orient</td>\n",
       "      <td>League Two</td>\n",
       "      <td>England</td>\n",
       "      <td>0.4</td>\n",
       "      <td>2.4</td>\n",
       "      <td>9.7</td>\n",
       "    </tr>\n",
       "    <tr>\n",
       "      <th>618</th>\n",
       "      <td>619</td>\n",
       "      <td>NaN</td>\n",
       "      <td>Grimsby Town</td>\n",
       "      <td>League Two</td>\n",
       "      <td>England</td>\n",
       "      <td>0.4</td>\n",
       "      <td>2.3</td>\n",
       "      <td>9.5</td>\n",
       "    </tr>\n",
       "    <tr>\n",
       "      <th>619</th>\n",
       "      <td>620</td>\n",
       "      <td>NaN</td>\n",
       "      <td>RGV Toros</td>\n",
       "      <td>USL Championship</td>\n",
       "      <td>USA</td>\n",
       "      <td>0.4</td>\n",
       "      <td>2.4</td>\n",
       "      <td>8.0</td>\n",
       "    </tr>\n",
       "    <tr>\n",
       "      <th>620</th>\n",
       "      <td>621</td>\n",
       "      <td>NaN</td>\n",
       "      <td>Carlisle United</td>\n",
       "      <td>League Two</td>\n",
       "      <td>England</td>\n",
       "      <td>0.3</td>\n",
       "      <td>2.3</td>\n",
       "      <td>7.6</td>\n",
       "    </tr>\n",
       "    <tr>\n",
       "      <th>621</th>\n",
       "      <td>622</td>\n",
       "      <td>NaN</td>\n",
       "      <td>Newport County</td>\n",
       "      <td>League Two</td>\n",
       "      <td>England</td>\n",
       "      <td>0.2</td>\n",
       "      <td>2.1</td>\n",
       "      <td>7.5</td>\n",
       "    </tr>\n",
       "    <tr>\n",
       "      <th>622</th>\n",
       "      <td>623</td>\n",
       "      <td>NaN</td>\n",
       "      <td>Atlanta United 2</td>\n",
       "      <td>USL Championship</td>\n",
       "      <td>USA</td>\n",
       "      <td>0.4</td>\n",
       "      <td>2.6</td>\n",
       "      <td>7.4</td>\n",
       "    </tr>\n",
       "    <tr>\n",
       "      <th>623</th>\n",
       "      <td>624</td>\n",
       "      <td>NaN</td>\n",
       "      <td>Sporting KC II</td>\n",
       "      <td>USL Championship</td>\n",
       "      <td>USA</td>\n",
       "      <td>0.4</td>\n",
       "      <td>2.6</td>\n",
       "      <td>7.2</td>\n",
       "    </tr>\n",
       "    <tr>\n",
       "      <th>624</th>\n",
       "      <td>625</td>\n",
       "      <td>NaN</td>\n",
       "      <td>Philadelphia II</td>\n",
       "      <td>USL Championship</td>\n",
       "      <td>USA</td>\n",
       "      <td>0.4</td>\n",
       "      <td>2.6</td>\n",
       "      <td>6.9</td>\n",
       "    </tr>\n",
       "    <tr>\n",
       "      <th>625</th>\n",
       "      <td>626</td>\n",
       "      <td>NaN</td>\n",
       "      <td>Macclesfield</td>\n",
       "      <td>League Two</td>\n",
       "      <td>England</td>\n",
       "      <td>0.2</td>\n",
       "      <td>2.3</td>\n",
       "      <td>6.6</td>\n",
       "    </tr>\n",
       "    <tr>\n",
       "      <th>626</th>\n",
       "      <td>627</td>\n",
       "      <td>NaN</td>\n",
       "      <td>Cambridge</td>\n",
       "      <td>League Two</td>\n",
       "      <td>England</td>\n",
       "      <td>0.2</td>\n",
       "      <td>2.3</td>\n",
       "      <td>6.4</td>\n",
       "    </tr>\n",
       "    <tr>\n",
       "      <th>627</th>\n",
       "      <td>628</td>\n",
       "      <td>NaN</td>\n",
       "      <td>Stevenage</td>\n",
       "      <td>League Two</td>\n",
       "      <td>England</td>\n",
       "      <td>0.2</td>\n",
       "      <td>2.3</td>\n",
       "      <td>6.4</td>\n",
       "    </tr>\n",
       "    <tr>\n",
       "      <th>628</th>\n",
       "      <td>629</td>\n",
       "      <td>NaN</td>\n",
       "      <td>Morecambe</td>\n",
       "      <td>League Two</td>\n",
       "      <td>England</td>\n",
       "      <td>0.2</td>\n",
       "      <td>2.4</td>\n",
       "      <td>5.8</td>\n",
       "    </tr>\n",
       "  </tbody>\n",
       "</table>\n",
       "<p>629 rows × 8 columns</p>\n",
       "</div>"
      ],
      "text/plain": [
       "    Unnamed: 0_level_0 Unnamed: 1_level_0 Unnamed: 2_level_0  \\\n",
       "                  Rank      1-week change               team   \n",
       "0                    1                NaN          Man. City   \n",
       "1                    2                NaN      Bayern Munich   \n",
       "2                    3                NaN          Liverpool   \n",
       "3                    4                NaN          Barcelona   \n",
       "4                    5                NaN        Real Madrid   \n",
       "5                    6                NaN                PSG   \n",
       "6                    7                NaN         RB Leipzig   \n",
       "7                    8                NaN        Man. United   \n",
       "8                    9                NaN            Chelsea   \n",
       "9                   10                NaN           Dortmund   \n",
       "10                  11                NaN           Juventus   \n",
       "11                  12                NaN    Atlético Madrid   \n",
       "12                  13                NaN         Leverkusen   \n",
       "13                  14                NaN           Atalanta   \n",
       "14                  15                NaN          Leicester   \n",
       "15                  16                NaN             Getafe   \n",
       "16                  17                NaN             Wolves   \n",
       "17                  18                NaN            Sevilla   \n",
       "18                  19                NaN        Inter Milan   \n",
       "19                  20                NaN            Everton   \n",
       "20                  21                NaN      Real Sociedad   \n",
       "21                  22                NaN            Arsenal   \n",
       "22                  23                NaN              Zenit   \n",
       "23                  24                NaN          Tottenham   \n",
       "24                  25                NaN               Ajax   \n",
       "25                  26                NaN              Lazio   \n",
       "26                  27                NaN           Gladbach   \n",
       "27                  28                NaN               Roma   \n",
       "28                  29                NaN        RB Salzburg   \n",
       "29                  30                NaN             Napoli   \n",
       "..                 ...                ...                ...   \n",
       "599                600                NaN    Tranmere Rovers   \n",
       "600                601                NaN    NY Red Bulls II   \n",
       "601                602                NaN       Stellenbosch   \n",
       "602                603                NaN          Port Vale   \n",
       "603                604                NaN      Bradford City   \n",
       "604                605                NaN           FC Tulsa   \n",
       "605                606                NaN  Hartford Athletic   \n",
       "606                607                NaN     Black Leopards   \n",
       "607                608                NaN     Mansfield Town   \n",
       "608                609                NaN     Loudoun United   \n",
       "609                610                NaN    Oldham Athletic   \n",
       "610                611                NaN    Southend United   \n",
       "611                612                NaN   Las Vegas Lights   \n",
       "612                613                NaN         Scunthorpe   \n",
       "613                614                NaN       Forest Green   \n",
       "614                615                NaN            Walsall   \n",
       "615                616                NaN    Tacoma Defiance   \n",
       "616                617                NaN             Bolton   \n",
       "617                618                NaN      Leyton Orient   \n",
       "618                619                NaN       Grimsby Town   \n",
       "619                620                NaN          RGV Toros   \n",
       "620                621                NaN    Carlisle United   \n",
       "621                622                NaN     Newport County   \n",
       "622                623                NaN   Atlanta United 2   \n",
       "623                624                NaN     Sporting KC II   \n",
       "624                625                NaN    Philadelphia II   \n",
       "625                626                NaN       Macclesfield   \n",
       "626                627                NaN          Cambridge   \n",
       "627                628                NaN          Stevenage   \n",
       "628                629                NaN          Morecambe   \n",
       "\n",
       "    Unnamed: 3_level_0 Unnamed: 4_level_0 Team rating             \n",
       "                League     League country        off. def.   spi  \n",
       "0       Premier League            England         3.2  0.2  94.8  \n",
       "1           Bundesliga            Germany         3.5  0.4  94.4  \n",
       "2       Premier League            England         2.9  0.3  91.9  \n",
       "3              La Liga              Spain         2.9  0.4  90.3  \n",
       "4              La Liga              Spain         2.7  0.4  89.5  \n",
       "5              Ligue 1             France         3.2  0.7  89.2  \n",
       "6           Bundesliga            Germany         2.6  0.4  88.1  \n",
       "7       Premier League            England         2.4  0.4  86.2  \n",
       "8       Premier League            England         2.4  0.5  85.5  \n",
       "9           Bundesliga            Germany         2.6  0.6  85.4  \n",
       "10             Serie A              Italy         2.4  0.5  84.3  \n",
       "11             La Liga              Spain         2.1  0.4  83.8  \n",
       "12          Bundesliga            Germany         2.4  0.6  82.9  \n",
       "13             Serie A              Italy         2.7  0.7  82.8  \n",
       "14      Premier League            England         2.2  0.5  81.6  \n",
       "15             La Liga              Spain         1.8  0.3  81.3  \n",
       "16      Premier League            England         2.0  0.5  80.5  \n",
       "17             La Liga              Spain         2.2  0.6  80.3  \n",
       "18             Serie A              Italy         2.3  0.7  79.5  \n",
       "19      Premier League            England         2.1  0.6  77.7  \n",
       "20             La Liga              Spain         2.1  0.7  77.0  \n",
       "21      Premier League            England         2.1  0.7  76.8  \n",
       "22      Premier League             Russia         2.0  0.6  76.7  \n",
       "23      Premier League            England         2.2  0.8  76.6  \n",
       "24          Eredivisie        Netherlands         2.5  1.0  76.5  \n",
       "25             Serie A              Italy         2.2  0.7  76.4  \n",
       "26          Bundesliga            Germany         2.2  0.8  75.9  \n",
       "27             Serie A              Italy         2.2  0.8  75.2  \n",
       "28          Bundesliga            Austria         2.7  1.2  75.1  \n",
       "29             Serie A              Italy         2.1  0.8  75.1  \n",
       "..                 ...                ...         ...  ...   ...  \n",
       "599         League One            England         0.5  2.2  12.4  \n",
       "600   USL Championship                USA         0.6  2.3  12.4  \n",
       "601   Premier Division       South Africa         0.4  1.9  12.3  \n",
       "602         League Two            England         0.4  2.1  12.0  \n",
       "603         League Two            England         0.4  2.1  12.0  \n",
       "604   USL Championship                USA         0.5  2.3  11.9  \n",
       "605   USL Championship                USA         0.6  2.5  11.8  \n",
       "606   Premier Division       South Africa         0.4  2.0  11.8  \n",
       "607         League Two            England         0.5  2.4  11.7  \n",
       "608   USL Championship                USA         0.6  2.4  11.6  \n",
       "609         League Two            England         0.5  2.4  11.1  \n",
       "610         League One            England         0.6  2.6  11.0  \n",
       "611   USL Championship                USA         0.5  2.3  10.9  \n",
       "612         League Two            England         0.4  2.3  10.3  \n",
       "613         League Two            England         0.4  2.2  10.2  \n",
       "614         League Two            England         0.4  2.3  10.0  \n",
       "615   USL Championship                USA         0.5  2.5   9.9  \n",
       "616         League One            England         0.4  2.3   9.8  \n",
       "617         League Two            England         0.4  2.4   9.7  \n",
       "618         League Two            England         0.4  2.3   9.5  \n",
       "619   USL Championship                USA         0.4  2.4   8.0  \n",
       "620         League Two            England         0.3  2.3   7.6  \n",
       "621         League Two            England         0.2  2.1   7.5  \n",
       "622   USL Championship                USA         0.4  2.6   7.4  \n",
       "623   USL Championship                USA         0.4  2.6   7.2  \n",
       "624   USL Championship                USA         0.4  2.6   6.9  \n",
       "625         League Two            England         0.2  2.3   6.6  \n",
       "626         League Two            England         0.2  2.3   6.4  \n",
       "627         League Two            England         0.2  2.3   6.4  \n",
       "628         League Two            England         0.2  2.4   5.8  \n",
       "\n",
       "[629 rows x 8 columns]"
      ]
     },
     "execution_count": 8,
     "metadata": {},
     "output_type": "execute_result"
    }
   ],
   "source": [
    "df = pd.read_html(table_str)[0]\n",
    "df"
   ]
  },
  {
   "cell_type": "markdown",
   "metadata": {},
   "source": [
    "Utilizamos a biblioteca $\\textit{BeautifulSoup}$ para análise dos dados HTML e XML extraídos do website. Porém, para fazermos isso, é necessário a utilização da ferramenta $\\textit{urllib}$ que faz a conexão com a pagína web.\n",
    "Pela $\\textit{urllib}$  também é feita a verificação da conexão com a pagína web.\n",
    "\n",
    "Criamos o objeto $\\textit{BeautifulSoup}$, onde, 'lxml' é o analisador de html.\n",
    "Usando a ferramenta $\\textit{Inspecionar}$ do navegador procuramos pela tag 'table' e sua classe 'all-teams', e usando o $\\textit{BeautifulSoup}$ extraimos a tabela."
   ]
  },
  {
   "cell_type": "markdown",
   "metadata": {},
   "source": [
    "### 2. Outro formato para ler os dados.\n",
    "Quando o banco de dados é disponibilizado, podemos fazer o download dos dados e ler o arquivo csv diretamente."
   ]
  },
  {
   "cell_type": "code",
   "execution_count": 9,
   "metadata": {},
   "outputs": [],
   "source": [
    "import numpy as np\n",
    "import matplotlib.pyplot as plt\n",
    "import seaborn as sns\n",
    "import scipy.stats as scs\n",
    "import statsmodels.api as sm \n",
    "import statistics as stats\n",
    "import math\n"
   ]
  },
  {
   "cell_type": "code",
   "execution_count": 13,
   "metadata": {
    "scrolled": true
   },
   "outputs": [
    {
     "data": {
      "text/html": [
       "<div>\n",
       "<style scoped>\n",
       "    .dataframe tbody tr th:only-of-type {\n",
       "        vertical-align: middle;\n",
       "    }\n",
       "\n",
       "    .dataframe tbody tr th {\n",
       "        vertical-align: top;\n",
       "    }\n",
       "\n",
       "    .dataframe thead th {\n",
       "        text-align: right;\n",
       "    }\n",
       "</style>\n",
       "<table border=\"1\" class=\"dataframe\">\n",
       "  <thead>\n",
       "    <tr style=\"text-align: right;\">\n",
       "      <th></th>\n",
       "      <th>rank</th>\n",
       "      <th>prev_rank</th>\n",
       "      <th>name</th>\n",
       "      <th>league</th>\n",
       "      <th>off</th>\n",
       "      <th>def</th>\n",
       "      <th>spi</th>\n",
       "    </tr>\n",
       "  </thead>\n",
       "  <tbody>\n",
       "    <tr>\n",
       "      <th>0</th>\n",
       "      <td>1</td>\n",
       "      <td>1</td>\n",
       "      <td>Manchester City</td>\n",
       "      <td>Barclays Premier League</td>\n",
       "      <td>3.16</td>\n",
       "      <td>0.21</td>\n",
       "      <td>94.80</td>\n",
       "    </tr>\n",
       "    <tr>\n",
       "      <th>1</th>\n",
       "      <td>2</td>\n",
       "      <td>2</td>\n",
       "      <td>Bayern Munich</td>\n",
       "      <td>German Bundesliga</td>\n",
       "      <td>3.50</td>\n",
       "      <td>0.38</td>\n",
       "      <td>94.44</td>\n",
       "    </tr>\n",
       "    <tr>\n",
       "      <th>2</th>\n",
       "      <td>3</td>\n",
       "      <td>3</td>\n",
       "      <td>Liverpool</td>\n",
       "      <td>Barclays Premier League</td>\n",
       "      <td>2.87</td>\n",
       "      <td>0.31</td>\n",
       "      <td>91.91</td>\n",
       "    </tr>\n",
       "    <tr>\n",
       "      <th>3</th>\n",
       "      <td>4</td>\n",
       "      <td>4</td>\n",
       "      <td>Barcelona</td>\n",
       "      <td>Spanish Primera Division</td>\n",
       "      <td>2.90</td>\n",
       "      <td>0.43</td>\n",
       "      <td>90.33</td>\n",
       "    </tr>\n",
       "    <tr>\n",
       "      <th>4</th>\n",
       "      <td>5</td>\n",
       "      <td>5</td>\n",
       "      <td>Real Madrid</td>\n",
       "      <td>Spanish Primera Division</td>\n",
       "      <td>2.67</td>\n",
       "      <td>0.37</td>\n",
       "      <td>89.49</td>\n",
       "    </tr>\n",
       "    <tr>\n",
       "      <th>5</th>\n",
       "      <td>6</td>\n",
       "      <td>6</td>\n",
       "      <td>Paris Saint-Germain</td>\n",
       "      <td>French Ligue 1</td>\n",
       "      <td>3.19</td>\n",
       "      <td>0.65</td>\n",
       "      <td>89.15</td>\n",
       "    </tr>\n",
       "    <tr>\n",
       "      <th>6</th>\n",
       "      <td>7</td>\n",
       "      <td>7</td>\n",
       "      <td>RB Leipzig</td>\n",
       "      <td>German Bundesliga</td>\n",
       "      <td>2.57</td>\n",
       "      <td>0.40</td>\n",
       "      <td>88.09</td>\n",
       "    </tr>\n",
       "    <tr>\n",
       "      <th>7</th>\n",
       "      <td>8</td>\n",
       "      <td>8</td>\n",
       "      <td>Manchester United</td>\n",
       "      <td>Barclays Premier League</td>\n",
       "      <td>2.38</td>\n",
       "      <td>0.40</td>\n",
       "      <td>86.23</td>\n",
       "    </tr>\n",
       "    <tr>\n",
       "      <th>8</th>\n",
       "      <td>9</td>\n",
       "      <td>9</td>\n",
       "      <td>Chelsea</td>\n",
       "      <td>Barclays Premier League</td>\n",
       "      <td>2.44</td>\n",
       "      <td>0.47</td>\n",
       "      <td>85.54</td>\n",
       "    </tr>\n",
       "    <tr>\n",
       "      <th>9</th>\n",
       "      <td>10</td>\n",
       "      <td>10</td>\n",
       "      <td>Borussia Dortmund</td>\n",
       "      <td>German Bundesliga</td>\n",
       "      <td>2.58</td>\n",
       "      <td>0.56</td>\n",
       "      <td>85.38</td>\n",
       "    </tr>\n",
       "    <tr>\n",
       "      <th>10</th>\n",
       "      <td>11</td>\n",
       "      <td>11</td>\n",
       "      <td>Juventus</td>\n",
       "      <td>Italy Serie A</td>\n",
       "      <td>2.44</td>\n",
       "      <td>0.54</td>\n",
       "      <td>84.28</td>\n",
       "    </tr>\n",
       "    <tr>\n",
       "      <th>11</th>\n",
       "      <td>12</td>\n",
       "      <td>12</td>\n",
       "      <td>Atletico Madrid</td>\n",
       "      <td>Spanish Primera Division</td>\n",
       "      <td>2.08</td>\n",
       "      <td>0.36</td>\n",
       "      <td>83.78</td>\n",
       "    </tr>\n",
       "    <tr>\n",
       "      <th>12</th>\n",
       "      <td>13</td>\n",
       "      <td>13</td>\n",
       "      <td>Bayer Leverkusen</td>\n",
       "      <td>German Bundesliga</td>\n",
       "      <td>2.45</td>\n",
       "      <td>0.61</td>\n",
       "      <td>82.94</td>\n",
       "    </tr>\n",
       "    <tr>\n",
       "      <th>13</th>\n",
       "      <td>14</td>\n",
       "      <td>14</td>\n",
       "      <td>Atalanta</td>\n",
       "      <td>Italy Serie A</td>\n",
       "      <td>2.67</td>\n",
       "      <td>0.75</td>\n",
       "      <td>82.78</td>\n",
       "    </tr>\n",
       "    <tr>\n",
       "      <th>14</th>\n",
       "      <td>15</td>\n",
       "      <td>15</td>\n",
       "      <td>Leicester City</td>\n",
       "      <td>Barclays Premier League</td>\n",
       "      <td>2.16</td>\n",
       "      <td>0.50</td>\n",
       "      <td>81.58</td>\n",
       "    </tr>\n",
       "    <tr>\n",
       "      <th>15</th>\n",
       "      <td>16</td>\n",
       "      <td>16</td>\n",
       "      <td>Getafe</td>\n",
       "      <td>Spanish Primera Division</td>\n",
       "      <td>1.80</td>\n",
       "      <td>0.31</td>\n",
       "      <td>81.31</td>\n",
       "    </tr>\n",
       "    <tr>\n",
       "      <th>16</th>\n",
       "      <td>17</td>\n",
       "      <td>17</td>\n",
       "      <td>Wolverhampton</td>\n",
       "      <td>Barclays Premier League</td>\n",
       "      <td>2.04</td>\n",
       "      <td>0.47</td>\n",
       "      <td>80.53</td>\n",
       "    </tr>\n",
       "    <tr>\n",
       "      <th>17</th>\n",
       "      <td>18</td>\n",
       "      <td>18</td>\n",
       "      <td>Sevilla FC</td>\n",
       "      <td>Spanish Primera Division</td>\n",
       "      <td>2.15</td>\n",
       "      <td>0.56</td>\n",
       "      <td>80.28</td>\n",
       "    </tr>\n",
       "    <tr>\n",
       "      <th>18</th>\n",
       "      <td>19</td>\n",
       "      <td>19</td>\n",
       "      <td>Internazionale</td>\n",
       "      <td>Italy Serie A</td>\n",
       "      <td>2.27</td>\n",
       "      <td>0.67</td>\n",
       "      <td>79.48</td>\n",
       "    </tr>\n",
       "    <tr>\n",
       "      <th>19</th>\n",
       "      <td>20</td>\n",
       "      <td>20</td>\n",
       "      <td>Everton</td>\n",
       "      <td>Barclays Premier League</td>\n",
       "      <td>2.10</td>\n",
       "      <td>0.64</td>\n",
       "      <td>77.72</td>\n",
       "    </tr>\n",
       "  </tbody>\n",
       "</table>\n",
       "</div>"
      ],
      "text/plain": [
       "    rank  prev_rank                 name                    league   off  \\\n",
       "0      1          1      Manchester City   Barclays Premier League  3.16   \n",
       "1      2          2        Bayern Munich         German Bundesliga  3.50   \n",
       "2      3          3            Liverpool   Barclays Premier League  2.87   \n",
       "3      4          4            Barcelona  Spanish Primera Division  2.90   \n",
       "4      5          5          Real Madrid  Spanish Primera Division  2.67   \n",
       "5      6          6  Paris Saint-Germain            French Ligue 1  3.19   \n",
       "6      7          7           RB Leipzig         German Bundesliga  2.57   \n",
       "7      8          8    Manchester United   Barclays Premier League  2.38   \n",
       "8      9          9              Chelsea   Barclays Premier League  2.44   \n",
       "9     10         10    Borussia Dortmund         German Bundesliga  2.58   \n",
       "10    11         11             Juventus             Italy Serie A  2.44   \n",
       "11    12         12      Atletico Madrid  Spanish Primera Division  2.08   \n",
       "12    13         13     Bayer Leverkusen         German Bundesliga  2.45   \n",
       "13    14         14             Atalanta             Italy Serie A  2.67   \n",
       "14    15         15       Leicester City   Barclays Premier League  2.16   \n",
       "15    16         16               Getafe  Spanish Primera Division  1.80   \n",
       "16    17         17        Wolverhampton   Barclays Premier League  2.04   \n",
       "17    18         18           Sevilla FC  Spanish Primera Division  2.15   \n",
       "18    19         19       Internazionale             Italy Serie A  2.27   \n",
       "19    20         20              Everton   Barclays Premier League  2.10   \n",
       "\n",
       "     def    spi  \n",
       "0   0.21  94.80  \n",
       "1   0.38  94.44  \n",
       "2   0.31  91.91  \n",
       "3   0.43  90.33  \n",
       "4   0.37  89.49  \n",
       "5   0.65  89.15  \n",
       "6   0.40  88.09  \n",
       "7   0.40  86.23  \n",
       "8   0.47  85.54  \n",
       "9   0.56  85.38  \n",
       "10  0.54  84.28  \n",
       "11  0.36  83.78  \n",
       "12  0.61  82.94  \n",
       "13  0.75  82.78  \n",
       "14  0.50  81.58  \n",
       "15  0.31  81.31  \n",
       "16  0.47  80.53  \n",
       "17  0.56  80.28  \n",
       "18  0.67  79.48  \n",
       "19  0.64  77.72  "
      ]
     },
     "execution_count": 13,
     "metadata": {},
     "output_type": "execute_result"
    }
   ],
   "source": [
    "Dados = pd.read_csv('spiglobalrankings.csv')\n",
    "Dados.head(20)"
   ]
  },
  {
   "cell_type": "code",
   "execution_count": 14,
   "metadata": {},
   "outputs": [
    {
     "data": {
      "text/plain": [
       "rank         0\n",
       "prev_rank    0\n",
       "name         0\n",
       "league       0\n",
       "off          0\n",
       "def          0\n",
       "spi          0\n",
       "dtype: int64"
      ]
     },
     "execution_count": 14,
     "metadata": {},
     "output_type": "execute_result"
    }
   ],
   "source": [
    "Dados.isnull().sum()"
   ]
  },
  {
   "cell_type": "markdown",
   "metadata": {},
   "source": [
    "Podemos observar que obtemos uma tabela sem a coluna dos países, porém nessa segunda tabela os dados já estão tratados pois não observamos dados faltantes NaN, confirmado pelo método isnull(). Logo iremos utliza-lá."
   ]
  },
  {
   "cell_type": "markdown",
   "metadata": {},
   "source": [
    "### 3. Tratamento de dados:\n",
    "\n",
    "Para que seja melhor a interação com os dados, é necessário o tratamento e a limpeza adequada. "
   ]
  },
  {
   "cell_type": "code",
   "execution_count": 15,
   "metadata": {},
   "outputs": [],
   "source": [
    "dados = Dados.rename(columns={\"rank\": \"Rank\", \"prev_rank\": \"Variação Semanal\", \"name\": \"Time\", \"league\": \"Liga\", \"off\": \"Rating Ofensivo\", \"def\": \"Rating Defensivo\", \"spi\": \"Rating de Força Futebolística\"})"
   ]
  },
  {
   "cell_type": "code",
   "execution_count": 16,
   "metadata": {},
   "outputs": [
    {
     "data": {
      "text/html": [
       "<div>\n",
       "<style scoped>\n",
       "    .dataframe tbody tr th:only-of-type {\n",
       "        vertical-align: middle;\n",
       "    }\n",
       "\n",
       "    .dataframe tbody tr th {\n",
       "        vertical-align: top;\n",
       "    }\n",
       "\n",
       "    .dataframe thead th {\n",
       "        text-align: right;\n",
       "    }\n",
       "</style>\n",
       "<table border=\"1\" class=\"dataframe\">\n",
       "  <thead>\n",
       "    <tr style=\"text-align: right;\">\n",
       "      <th></th>\n",
       "      <th>Rank</th>\n",
       "      <th>Variação Semanal</th>\n",
       "      <th>Time</th>\n",
       "      <th>Liga</th>\n",
       "      <th>Rating Ofensivo</th>\n",
       "      <th>Rating Defensivo</th>\n",
       "      <th>Rating de Força Futebolística</th>\n",
       "    </tr>\n",
       "  </thead>\n",
       "  <tbody>\n",
       "    <tr>\n",
       "      <th>0</th>\n",
       "      <td>1</td>\n",
       "      <td>1</td>\n",
       "      <td>Manchester City</td>\n",
       "      <td>Barclays Premier League</td>\n",
       "      <td>3.16</td>\n",
       "      <td>0.21</td>\n",
       "      <td>94.80</td>\n",
       "    </tr>\n",
       "    <tr>\n",
       "      <th>1</th>\n",
       "      <td>2</td>\n",
       "      <td>2</td>\n",
       "      <td>Bayern Munich</td>\n",
       "      <td>German Bundesliga</td>\n",
       "      <td>3.50</td>\n",
       "      <td>0.38</td>\n",
       "      <td>94.44</td>\n",
       "    </tr>\n",
       "    <tr>\n",
       "      <th>2</th>\n",
       "      <td>3</td>\n",
       "      <td>3</td>\n",
       "      <td>Liverpool</td>\n",
       "      <td>Barclays Premier League</td>\n",
       "      <td>2.87</td>\n",
       "      <td>0.31</td>\n",
       "      <td>91.91</td>\n",
       "    </tr>\n",
       "    <tr>\n",
       "      <th>3</th>\n",
       "      <td>4</td>\n",
       "      <td>4</td>\n",
       "      <td>Barcelona</td>\n",
       "      <td>Spanish Primera Division</td>\n",
       "      <td>2.90</td>\n",
       "      <td>0.43</td>\n",
       "      <td>90.33</td>\n",
       "    </tr>\n",
       "    <tr>\n",
       "      <th>4</th>\n",
       "      <td>5</td>\n",
       "      <td>5</td>\n",
       "      <td>Real Madrid</td>\n",
       "      <td>Spanish Primera Division</td>\n",
       "      <td>2.67</td>\n",
       "      <td>0.37</td>\n",
       "      <td>89.49</td>\n",
       "    </tr>\n",
       "    <tr>\n",
       "      <th>5</th>\n",
       "      <td>6</td>\n",
       "      <td>6</td>\n",
       "      <td>Paris Saint-Germain</td>\n",
       "      <td>French Ligue 1</td>\n",
       "      <td>3.19</td>\n",
       "      <td>0.65</td>\n",
       "      <td>89.15</td>\n",
       "    </tr>\n",
       "    <tr>\n",
       "      <th>6</th>\n",
       "      <td>7</td>\n",
       "      <td>7</td>\n",
       "      <td>RB Leipzig</td>\n",
       "      <td>German Bundesliga</td>\n",
       "      <td>2.57</td>\n",
       "      <td>0.40</td>\n",
       "      <td>88.09</td>\n",
       "    </tr>\n",
       "    <tr>\n",
       "      <th>7</th>\n",
       "      <td>8</td>\n",
       "      <td>8</td>\n",
       "      <td>Manchester United</td>\n",
       "      <td>Barclays Premier League</td>\n",
       "      <td>2.38</td>\n",
       "      <td>0.40</td>\n",
       "      <td>86.23</td>\n",
       "    </tr>\n",
       "    <tr>\n",
       "      <th>8</th>\n",
       "      <td>9</td>\n",
       "      <td>9</td>\n",
       "      <td>Chelsea</td>\n",
       "      <td>Barclays Premier League</td>\n",
       "      <td>2.44</td>\n",
       "      <td>0.47</td>\n",
       "      <td>85.54</td>\n",
       "    </tr>\n",
       "    <tr>\n",
       "      <th>9</th>\n",
       "      <td>10</td>\n",
       "      <td>10</td>\n",
       "      <td>Borussia Dortmund</td>\n",
       "      <td>German Bundesliga</td>\n",
       "      <td>2.58</td>\n",
       "      <td>0.56</td>\n",
       "      <td>85.38</td>\n",
       "    </tr>\n",
       "  </tbody>\n",
       "</table>\n",
       "</div>"
      ],
      "text/plain": [
       "   Rank  Variação Semanal                 Time                      Liga  \\\n",
       "0     1                 1      Manchester City   Barclays Premier League   \n",
       "1     2                 2        Bayern Munich         German Bundesliga   \n",
       "2     3                 3            Liverpool   Barclays Premier League   \n",
       "3     4                 4            Barcelona  Spanish Primera Division   \n",
       "4     5                 5          Real Madrid  Spanish Primera Division   \n",
       "5     6                 6  Paris Saint-Germain            French Ligue 1   \n",
       "6     7                 7           RB Leipzig         German Bundesliga   \n",
       "7     8                 8    Manchester United   Barclays Premier League   \n",
       "8     9                 9              Chelsea   Barclays Premier League   \n",
       "9    10                10    Borussia Dortmund         German Bundesliga   \n",
       "\n",
       "   Rating Ofensivo  Rating Defensivo  Rating de Força Futebolística  \n",
       "0             3.16              0.21                          94.80  \n",
       "1             3.50              0.38                          94.44  \n",
       "2             2.87              0.31                          91.91  \n",
       "3             2.90              0.43                          90.33  \n",
       "4             2.67              0.37                          89.49  \n",
       "5             3.19              0.65                          89.15  \n",
       "6             2.57              0.40                          88.09  \n",
       "7             2.38              0.40                          86.23  \n",
       "8             2.44              0.47                          85.54  \n",
       "9             2.58              0.56                          85.38  "
      ]
     },
     "execution_count": 16,
     "metadata": {},
     "output_type": "execute_result"
    }
   ],
   "source": [
    "dados.head(10)"
   ]
  },
  {
   "cell_type": "code",
   "execution_count": 17,
   "metadata": {},
   "outputs": [
    {
     "name": "stdout",
     "output_type": "stream",
     "text": [
      "(629, 7)\n"
     ]
    }
   ],
   "source": [
    "print(dados.shape)"
   ]
  },
  {
   "cell_type": "code",
   "execution_count": 18,
   "metadata": {
    "scrolled": true
   },
   "outputs": [
    {
     "data": {
      "text/html": [
       "<div>\n",
       "<style scoped>\n",
       "    .dataframe tbody tr th:only-of-type {\n",
       "        vertical-align: middle;\n",
       "    }\n",
       "\n",
       "    .dataframe tbody tr th {\n",
       "        vertical-align: top;\n",
       "    }\n",
       "\n",
       "    .dataframe thead th {\n",
       "        text-align: right;\n",
       "    }\n",
       "</style>\n",
       "<table border=\"1\" class=\"dataframe\">\n",
       "  <thead>\n",
       "    <tr style=\"text-align: right;\">\n",
       "      <th></th>\n",
       "      <th>Rank</th>\n",
       "      <th>Variação Semanal</th>\n",
       "      <th>Rating Ofensivo</th>\n",
       "      <th>Rating Defensivo</th>\n",
       "      <th>Rating de Força Futebolística</th>\n",
       "    </tr>\n",
       "  </thead>\n",
       "  <tbody>\n",
       "    <tr>\n",
       "      <th>count</th>\n",
       "      <td>629.00000</td>\n",
       "      <td>629.00000</td>\n",
       "      <td>629.000000</td>\n",
       "      <td>629.000000</td>\n",
       "      <td>629.000000</td>\n",
       "    </tr>\n",
       "    <tr>\n",
       "      <th>mean</th>\n",
       "      <td>315.00000</td>\n",
       "      <td>315.00000</td>\n",
       "      <td>1.226184</td>\n",
       "      <td>1.432544</td>\n",
       "      <td>41.420397</td>\n",
       "    </tr>\n",
       "    <tr>\n",
       "      <th>std</th>\n",
       "      <td>181.72094</td>\n",
       "      <td>181.72094</td>\n",
       "      <td>0.499345</td>\n",
       "      <td>0.445965</td>\n",
       "      <td>18.661617</td>\n",
       "    </tr>\n",
       "    <tr>\n",
       "      <th>min</th>\n",
       "      <td>1.00000</td>\n",
       "      <td>1.00000</td>\n",
       "      <td>0.200000</td>\n",
       "      <td>0.210000</td>\n",
       "      <td>5.850000</td>\n",
       "    </tr>\n",
       "    <tr>\n",
       "      <th>25%</th>\n",
       "      <td>158.00000</td>\n",
       "      <td>158.00000</td>\n",
       "      <td>0.870000</td>\n",
       "      <td>1.130000</td>\n",
       "      <td>27.560000</td>\n",
       "    </tr>\n",
       "    <tr>\n",
       "      <th>50%</th>\n",
       "      <td>315.00000</td>\n",
       "      <td>315.00000</td>\n",
       "      <td>1.190000</td>\n",
       "      <td>1.430000</td>\n",
       "      <td>39.430000</td>\n",
       "    </tr>\n",
       "    <tr>\n",
       "      <th>75%</th>\n",
       "      <td>472.00000</td>\n",
       "      <td>472.00000</td>\n",
       "      <td>1.530000</td>\n",
       "      <td>1.740000</td>\n",
       "      <td>54.920000</td>\n",
       "    </tr>\n",
       "    <tr>\n",
       "      <th>max</th>\n",
       "      <td>629.00000</td>\n",
       "      <td>629.00000</td>\n",
       "      <td>3.500000</td>\n",
       "      <td>2.640000</td>\n",
       "      <td>94.800000</td>\n",
       "    </tr>\n",
       "  </tbody>\n",
       "</table>\n",
       "</div>"
      ],
      "text/plain": [
       "            Rank  Variação Semanal  Rating Ofensivo  Rating Defensivo  \\\n",
       "count  629.00000         629.00000       629.000000        629.000000   \n",
       "mean   315.00000         315.00000         1.226184          1.432544   \n",
       "std    181.72094         181.72094         0.499345          0.445965   \n",
       "min      1.00000           1.00000         0.200000          0.210000   \n",
       "25%    158.00000         158.00000         0.870000          1.130000   \n",
       "50%    315.00000         315.00000         1.190000          1.430000   \n",
       "75%    472.00000         472.00000         1.530000          1.740000   \n",
       "max    629.00000         629.00000         3.500000          2.640000   \n",
       "\n",
       "       Rating de Força Futebolística  \n",
       "count                     629.000000  \n",
       "mean                       41.420397  \n",
       "std                        18.661617  \n",
       "min                         5.850000  \n",
       "25%                        27.560000  \n",
       "50%                        39.430000  \n",
       "75%                        54.920000  \n",
       "max                        94.800000  "
      ]
     },
     "execution_count": 18,
     "metadata": {},
     "output_type": "execute_result"
    }
   ],
   "source": [
    "dados.describe()"
   ]
  },
  {
   "cell_type": "code",
   "execution_count": 19,
   "metadata": {},
   "outputs": [
    {
     "data": {
      "text/plain": [
       "Rank                               int64\n",
       "Variação Semanal                   int64\n",
       "Time                              object\n",
       "Liga                              object\n",
       "Rating Ofensivo                  float64\n",
       "Rating Defensivo                 float64\n",
       "Rating de Força Futebolística    float64\n",
       "dtype: object"
      ]
     },
     "execution_count": 19,
     "metadata": {},
     "output_type": "execute_result"
    }
   ],
   "source": [
    "dados.dtypes"
   ]
  },
  {
   "cell_type": "markdown",
   "metadata": {},
   "source": [
    "### 4. Descrevendo os Dados estatísticamente:\n",
    "\n",
    "Após ler a base de dados, vamos descrever algumas técnicas estatísticas. "
   ]
  },
  {
   "cell_type": "code",
   "execution_count": 20,
   "metadata": {},
   "outputs": [],
   "source": [
    "qualitativa = ['Time', 'Liga']\n",
    "discreta = ['Rank', 'Variação Semanal']\n",
    "continua = dados.columns[4:]"
   ]
  },
  {
   "cell_type": "markdown",
   "metadata": {},
   "source": [
    "$\\textit{Tabela de Frequência para Variáveis Discretas:}$  "
   ]
  },
  {
   "cell_type": "code",
   "execution_count": 21,
   "metadata": {
    "scrolled": false
   },
   "outputs": [
    {
     "data": {
      "text/html": [
       "<div>\n",
       "<style scoped>\n",
       "    .dataframe tbody tr th:only-of-type {\n",
       "        vertical-align: middle;\n",
       "    }\n",
       "\n",
       "    .dataframe tbody tr th {\n",
       "        vertical-align: top;\n",
       "    }\n",
       "\n",
       "    .dataframe thead th {\n",
       "        text-align: right;\n",
       "    }\n",
       "</style>\n",
       "<table border=\"1\" class=\"dataframe\">\n",
       "  <thead>\n",
       "    <tr style=\"text-align: right;\">\n",
       "      <th></th>\n",
       "      <th>Freq.</th>\n",
       "      <th>Acum.</th>\n",
       "      <th>Rel. (%)</th>\n",
       "      <th>Rel. Acum. (%)</th>\n",
       "    </tr>\n",
       "  </thead>\n",
       "  <tbody>\n",
       "    <tr>\n",
       "      <th>United Soccer League</th>\n",
       "      <td>35</td>\n",
       "      <td>35</td>\n",
       "      <td>5.564388</td>\n",
       "      <td>5.564388</td>\n",
       "    </tr>\n",
       "    <tr>\n",
       "      <th>Major League Soccer</th>\n",
       "      <td>26</td>\n",
       "      <td>61</td>\n",
       "      <td>4.133545</td>\n",
       "      <td>9.697933</td>\n",
       "    </tr>\n",
       "    <tr>\n",
       "      <th>Argentina Primera Division</th>\n",
       "      <td>24</td>\n",
       "      <td>85</td>\n",
       "      <td>3.815580</td>\n",
       "      <td>13.513514</td>\n",
       "    </tr>\n",
       "    <tr>\n",
       "      <th>English League Two</th>\n",
       "      <td>24</td>\n",
       "      <td>109</td>\n",
       "      <td>3.815580</td>\n",
       "      <td>17.329094</td>\n",
       "    </tr>\n",
       "    <tr>\n",
       "      <th>English League Championship</th>\n",
       "      <td>24</td>\n",
       "      <td>133</td>\n",
       "      <td>3.815580</td>\n",
       "      <td>21.144674</td>\n",
       "    </tr>\n",
       "    <tr>\n",
       "      <th>English League One</th>\n",
       "      <td>23</td>\n",
       "      <td>156</td>\n",
       "      <td>3.656598</td>\n",
       "      <td>24.801272</td>\n",
       "    </tr>\n",
       "    <tr>\n",
       "      <th>Spanish Segunda Division</th>\n",
       "      <td>22</td>\n",
       "      <td>178</td>\n",
       "      <td>3.497615</td>\n",
       "      <td>28.298887</td>\n",
       "    </tr>\n",
       "    <tr>\n",
       "      <th>Brasileiro Série A</th>\n",
       "      <td>20</td>\n",
       "      <td>198</td>\n",
       "      <td>3.179650</td>\n",
       "      <td>31.478537</td>\n",
       "    </tr>\n",
       "    <tr>\n",
       "      <th>Italy Serie A</th>\n",
       "      <td>20</td>\n",
       "      <td>218</td>\n",
       "      <td>3.179650</td>\n",
       "      <td>34.658188</td>\n",
       "    </tr>\n",
       "    <tr>\n",
       "      <th>French Ligue 1</th>\n",
       "      <td>20</td>\n",
       "      <td>238</td>\n",
       "      <td>3.179650</td>\n",
       "      <td>37.837838</td>\n",
       "    </tr>\n",
       "    <tr>\n",
       "      <th>French Ligue 2</th>\n",
       "      <td>20</td>\n",
       "      <td>258</td>\n",
       "      <td>3.179650</td>\n",
       "      <td>41.017488</td>\n",
       "    </tr>\n",
       "    <tr>\n",
       "      <th>Barclays Premier League</th>\n",
       "      <td>20</td>\n",
       "      <td>278</td>\n",
       "      <td>3.179650</td>\n",
       "      <td>44.197138</td>\n",
       "    </tr>\n",
       "    <tr>\n",
       "      <th>Spanish Primera Division</th>\n",
       "      <td>20</td>\n",
       "      <td>298</td>\n",
       "      <td>3.179650</td>\n",
       "      <td>47.376789</td>\n",
       "    </tr>\n",
       "    <tr>\n",
       "      <th>Italy Serie B</th>\n",
       "      <td>20</td>\n",
       "      <td>318</td>\n",
       "      <td>3.179650</td>\n",
       "      <td>50.556439</td>\n",
       "    </tr>\n",
       "    <tr>\n",
       "      <th>German 2. Bundesliga</th>\n",
       "      <td>18</td>\n",
       "      <td>336</td>\n",
       "      <td>2.861685</td>\n",
       "      <td>53.418124</td>\n",
       "    </tr>\n",
       "    <tr>\n",
       "      <th>Japanese J League</th>\n",
       "      <td>18</td>\n",
       "      <td>354</td>\n",
       "      <td>2.861685</td>\n",
       "      <td>56.279809</td>\n",
       "    </tr>\n",
       "    <tr>\n",
       "      <th>Portuguese Liga</th>\n",
       "      <td>18</td>\n",
       "      <td>372</td>\n",
       "      <td>2.861685</td>\n",
       "      <td>59.141494</td>\n",
       "    </tr>\n",
       "    <tr>\n",
       "      <th>Turkish Turkcell Super Lig</th>\n",
       "      <td>18</td>\n",
       "      <td>390</td>\n",
       "      <td>2.861685</td>\n",
       "      <td>62.003180</td>\n",
       "    </tr>\n",
       "    <tr>\n",
       "      <th>Mexican Primera Division Torneo Clausura</th>\n",
       "      <td>18</td>\n",
       "      <td>408</td>\n",
       "      <td>2.861685</td>\n",
       "      <td>64.864865</td>\n",
       "    </tr>\n",
       "    <tr>\n",
       "      <th>German Bundesliga</th>\n",
       "      <td>18</td>\n",
       "      <td>426</td>\n",
       "      <td>2.861685</td>\n",
       "      <td>67.726550</td>\n",
       "    </tr>\n",
       "    <tr>\n",
       "      <th>Dutch Eredivisie</th>\n",
       "      <td>18</td>\n",
       "      <td>444</td>\n",
       "      <td>2.861685</td>\n",
       "      <td>70.588235</td>\n",
       "    </tr>\n",
       "    <tr>\n",
       "      <th>Norwegian Tippeligaen</th>\n",
       "      <td>16</td>\n",
       "      <td>460</td>\n",
       "      <td>2.543720</td>\n",
       "      <td>73.131955</td>\n",
       "    </tr>\n",
       "    <tr>\n",
       "      <th>South African ABSA Premier League</th>\n",
       "      <td>16</td>\n",
       "      <td>476</td>\n",
       "      <td>2.543720</td>\n",
       "      <td>75.675676</td>\n",
       "    </tr>\n",
       "    <tr>\n",
       "      <th>Swedish Allsvenskan</th>\n",
       "      <td>16</td>\n",
       "      <td>492</td>\n",
       "      <td>2.543720</td>\n",
       "      <td>78.219396</td>\n",
       "    </tr>\n",
       "    <tr>\n",
       "      <th>Chinese Super League</th>\n",
       "      <td>16</td>\n",
       "      <td>508</td>\n",
       "      <td>2.543720</td>\n",
       "      <td>80.763116</td>\n",
       "    </tr>\n",
       "    <tr>\n",
       "      <th>Russian Premier Liga</th>\n",
       "      <td>16</td>\n",
       "      <td>524</td>\n",
       "      <td>2.543720</td>\n",
       "      <td>83.306836</td>\n",
       "    </tr>\n",
       "    <tr>\n",
       "      <th>Belgian Jupiler League</th>\n",
       "      <td>16</td>\n",
       "      <td>540</td>\n",
       "      <td>2.543720</td>\n",
       "      <td>85.850556</td>\n",
       "    </tr>\n",
       "    <tr>\n",
       "      <th>Greek Super League</th>\n",
       "      <td>14</td>\n",
       "      <td>554</td>\n",
       "      <td>2.225755</td>\n",
       "      <td>88.076312</td>\n",
       "    </tr>\n",
       "    <tr>\n",
       "      <th>Danish SAS-Ligaen</th>\n",
       "      <td>14</td>\n",
       "      <td>568</td>\n",
       "      <td>2.225755</td>\n",
       "      <td>90.302067</td>\n",
       "    </tr>\n",
       "    <tr>\n",
       "      <th>Austrian T-Mobile Bundesliga</th>\n",
       "      <td>12</td>\n",
       "      <td>580</td>\n",
       "      <td>1.907790</td>\n",
       "      <td>92.209857</td>\n",
       "    </tr>\n",
       "    <tr>\n",
       "      <th>UEFA Europa League</th>\n",
       "      <td>12</td>\n",
       "      <td>592</td>\n",
       "      <td>1.907790</td>\n",
       "      <td>94.117647</td>\n",
       "    </tr>\n",
       "    <tr>\n",
       "      <th>Scottish Premiership</th>\n",
       "      <td>12</td>\n",
       "      <td>604</td>\n",
       "      <td>1.907790</td>\n",
       "      <td>96.025437</td>\n",
       "    </tr>\n",
       "    <tr>\n",
       "      <th>Australian A-League</th>\n",
       "      <td>11</td>\n",
       "      <td>615</td>\n",
       "      <td>1.748808</td>\n",
       "      <td>97.774245</td>\n",
       "    </tr>\n",
       "    <tr>\n",
       "      <th>Swiss Raiffeisen Super League</th>\n",
       "      <td>10</td>\n",
       "      <td>625</td>\n",
       "      <td>1.589825</td>\n",
       "      <td>99.364070</td>\n",
       "    </tr>\n",
       "    <tr>\n",
       "      <th>UEFA Champions League</th>\n",
       "      <td>3</td>\n",
       "      <td>628</td>\n",
       "      <td>0.476948</td>\n",
       "      <td>99.841017</td>\n",
       "    </tr>\n",
       "    <tr>\n",
       "      <th>Mexican Primera Division Torneo Apertura</th>\n",
       "      <td>1</td>\n",
       "      <td>629</td>\n",
       "      <td>0.158983</td>\n",
       "      <td>100.000000</td>\n",
       "    </tr>\n",
       "  </tbody>\n",
       "</table>\n",
       "</div>"
      ],
      "text/plain": [
       "                                          Freq.  Acum.  Rel. (%)  \\\n",
       "United Soccer League                         35     35  5.564388   \n",
       "Major League Soccer                          26     61  4.133545   \n",
       "Argentina Primera Division                   24     85  3.815580   \n",
       "English League Two                           24    109  3.815580   \n",
       "English League Championship                  24    133  3.815580   \n",
       "English League One                           23    156  3.656598   \n",
       "Spanish Segunda Division                     22    178  3.497615   \n",
       "Brasileiro Série A                           20    198  3.179650   \n",
       "Italy Serie A                                20    218  3.179650   \n",
       "French Ligue 1                               20    238  3.179650   \n",
       "French Ligue 2                               20    258  3.179650   \n",
       "Barclays Premier League                      20    278  3.179650   \n",
       "Spanish Primera Division                     20    298  3.179650   \n",
       "Italy Serie B                                20    318  3.179650   \n",
       "German 2. Bundesliga                         18    336  2.861685   \n",
       "Japanese J League                            18    354  2.861685   \n",
       "Portuguese Liga                              18    372  2.861685   \n",
       "Turkish Turkcell Super Lig                   18    390  2.861685   \n",
       "Mexican Primera Division Torneo Clausura     18    408  2.861685   \n",
       "German Bundesliga                            18    426  2.861685   \n",
       "Dutch Eredivisie                             18    444  2.861685   \n",
       "Norwegian Tippeligaen                        16    460  2.543720   \n",
       "South African ABSA Premier League            16    476  2.543720   \n",
       "Swedish Allsvenskan                          16    492  2.543720   \n",
       "Chinese Super League                         16    508  2.543720   \n",
       "Russian Premier Liga                         16    524  2.543720   \n",
       "Belgian Jupiler League                       16    540  2.543720   \n",
       "Greek Super League                           14    554  2.225755   \n",
       "Danish SAS-Ligaen                            14    568  2.225755   \n",
       "Austrian T-Mobile Bundesliga                 12    580  1.907790   \n",
       "UEFA Europa League                           12    592  1.907790   \n",
       "Scottish Premiership                         12    604  1.907790   \n",
       "Australian A-League                          11    615  1.748808   \n",
       "Swiss Raiffeisen Super League                10    625  1.589825   \n",
       "UEFA Champions League                         3    628  0.476948   \n",
       "Mexican Primera Division Torneo Apertura      1    629  0.158983   \n",
       "\n",
       "                                          Rel. Acum. (%)  \n",
       "United Soccer League                            5.564388  \n",
       "Major League Soccer                             9.697933  \n",
       "Argentina Primera Division                     13.513514  \n",
       "English League Two                             17.329094  \n",
       "English League Championship                    21.144674  \n",
       "English League One                             24.801272  \n",
       "Spanish Segunda Division                       28.298887  \n",
       "Brasileiro Série A                             31.478537  \n",
       "Italy Serie A                                  34.658188  \n",
       "French Ligue 1                                 37.837838  \n",
       "French Ligue 2                                 41.017488  \n",
       "Barclays Premier League                        44.197138  \n",
       "Spanish Primera Division                       47.376789  \n",
       "Italy Serie B                                  50.556439  \n",
       "German 2. Bundesliga                           53.418124  \n",
       "Japanese J League                              56.279809  \n",
       "Portuguese Liga                                59.141494  \n",
       "Turkish Turkcell Super Lig                     62.003180  \n",
       "Mexican Primera Division Torneo Clausura       64.864865  \n",
       "German Bundesliga                              67.726550  \n",
       "Dutch Eredivisie                               70.588235  \n",
       "Norwegian Tippeligaen                          73.131955  \n",
       "South African ABSA Premier League              75.675676  \n",
       "Swedish Allsvenskan                            78.219396  \n",
       "Chinese Super League                           80.763116  \n",
       "Russian Premier Liga                           83.306836  \n",
       "Belgian Jupiler League                         85.850556  \n",
       "Greek Super League                             88.076312  \n",
       "Danish SAS-Ligaen                              90.302067  \n",
       "Austrian T-Mobile Bundesliga                   92.209857  \n",
       "UEFA Europa League                             94.117647  \n",
       "Scottish Premiership                           96.025437  \n",
       "Australian A-League                            97.774245  \n",
       "Swiss Raiffeisen Super League                  99.364070  \n",
       "UEFA Champions League                          99.841017  \n",
       "Mexican Primera Division Torneo Apertura      100.000000  "
      ]
     },
     "execution_count": 21,
     "metadata": {},
     "output_type": "execute_result"
    }
   ],
   "source": [
    "tab_freq_liga = dados.Liga.value_counts(sort=True)\n",
    "tab_freq_liga = pd.DataFrame({\"Freq.\": tab_freq_liga})\n",
    "\n",
    "tab_freq_liga['Acum.'] = tab_freq_liga['Freq.'].cumsum()\n",
    "tab_freq_liga['Rel. (%)'] = ((tab_freq_liga['Freq.']/629)*100)\n",
    "tab_freq_liga['Rel. Acum. (%)'] = tab_freq_liga['Rel. (%)'].cumsum()\n",
    "\n",
    "tab_freq_liga"
   ]
  },
  {
   "cell_type": "code",
   "execution_count": 22,
   "metadata": {},
   "outputs": [
    {
     "data": {
      "text/plain": [
       "Freq.               int64\n",
       "Acum.               int64\n",
       "Rel. (%)          float64\n",
       "Rel. Acum. (%)    float64\n",
       "dtype: object"
      ]
     },
     "execution_count": 22,
     "metadata": {},
     "output_type": "execute_result"
    }
   ],
   "source": [
    "tab_freq_liga.dtypes"
   ]
  },
  {
   "cell_type": "markdown",
   "metadata": {},
   "source": [
    "$\\textit{Tabela de Frequência para Variáveis Contínuas:}$"
   ]
  },
  {
   "cell_type": "code",
   "execution_count": 23,
   "metadata": {
    "scrolled": true
   },
   "outputs": [
    {
     "data": {
      "text/html": [
       "<div>\n",
       "<style scoped>\n",
       "    .dataframe tbody tr th:only-of-type {\n",
       "        vertical-align: middle;\n",
       "    }\n",
       "\n",
       "    .dataframe tbody tr th {\n",
       "        vertical-align: top;\n",
       "    }\n",
       "\n",
       "    .dataframe thead th {\n",
       "        text-align: right;\n",
       "    }\n",
       "</style>\n",
       "<table border=\"1\" class=\"dataframe\">\n",
       "  <thead>\n",
       "    <tr style=\"text-align: right;\">\n",
       "      <th></th>\n",
       "      <th>Freq.</th>\n",
       "      <th>Acum.</th>\n",
       "      <th>Rel. (%)</th>\n",
       "      <th>Rel. Acum. (%)</th>\n",
       "    </tr>\n",
       "  </thead>\n",
       "  <tbody>\n",
       "    <tr>\n",
       "      <th>[0, 10)</th>\n",
       "      <td>15</td>\n",
       "      <td>15</td>\n",
       "      <td>2.384738</td>\n",
       "      <td>2.384738</td>\n",
       "    </tr>\n",
       "    <tr>\n",
       "      <th>[10, 20)</th>\n",
       "      <td>63</td>\n",
       "      <td>78</td>\n",
       "      <td>10.015898</td>\n",
       "      <td>12.400636</td>\n",
       "    </tr>\n",
       "    <tr>\n",
       "      <th>[20, 30)</th>\n",
       "      <td>118</td>\n",
       "      <td>196</td>\n",
       "      <td>18.759936</td>\n",
       "      <td>31.160572</td>\n",
       "    </tr>\n",
       "    <tr>\n",
       "      <th>[30, 40)</th>\n",
       "      <td>124</td>\n",
       "      <td>320</td>\n",
       "      <td>19.713831</td>\n",
       "      <td>50.874404</td>\n",
       "    </tr>\n",
       "    <tr>\n",
       "      <th>[40, 50)</th>\n",
       "      <td>117</td>\n",
       "      <td>437</td>\n",
       "      <td>18.600954</td>\n",
       "      <td>69.475358</td>\n",
       "    </tr>\n",
       "    <tr>\n",
       "      <th>[50, 60)</th>\n",
       "      <td>75</td>\n",
       "      <td>512</td>\n",
       "      <td>11.923688</td>\n",
       "      <td>81.399046</td>\n",
       "    </tr>\n",
       "    <tr>\n",
       "      <th>[60, 70)</th>\n",
       "      <td>65</td>\n",
       "      <td>577</td>\n",
       "      <td>10.333863</td>\n",
       "      <td>91.732909</td>\n",
       "    </tr>\n",
       "    <tr>\n",
       "      <th>[70, 80)</th>\n",
       "      <td>34</td>\n",
       "      <td>611</td>\n",
       "      <td>5.405405</td>\n",
       "      <td>97.138315</td>\n",
       "    </tr>\n",
       "    <tr>\n",
       "      <th>[80, 90)</th>\n",
       "      <td>14</td>\n",
       "      <td>625</td>\n",
       "      <td>2.225755</td>\n",
       "      <td>99.364070</td>\n",
       "    </tr>\n",
       "    <tr>\n",
       "      <th>[90, 100)</th>\n",
       "      <td>4</td>\n",
       "      <td>629</td>\n",
       "      <td>0.635930</td>\n",
       "      <td>100.000000</td>\n",
       "    </tr>\n",
       "  </tbody>\n",
       "</table>\n",
       "</div>"
      ],
      "text/plain": [
       "           Freq.  Acum.   Rel. (%)  Rel. Acum. (%)\n",
       "[0, 10)       15     15   2.384738        2.384738\n",
       "[10, 20)      63     78  10.015898       12.400636\n",
       "[20, 30)     118    196  18.759936       31.160572\n",
       "[30, 40)     124    320  19.713831       50.874404\n",
       "[40, 50)     117    437  18.600954       69.475358\n",
       "[50, 60)      75    512  11.923688       81.399046\n",
       "[60, 70)      65    577  10.333863       91.732909\n",
       "[70, 80)      34    611   5.405405       97.138315\n",
       "[80, 90)      14    625   2.225755       99.364070\n",
       "[90, 100)      4    629   0.635930      100.000000"
      ]
     },
     "execution_count": 23,
     "metadata": {},
     "output_type": "execute_result"
    }
   ],
   "source": [
    "spi = dados['Rating de Força Futebolística']\n",
    "bins_range = range(0, int(round(spi.max()))+10,10)\n",
    "tab_freq_spi = pd.cut(spi, bins=bins_range, include_lowest=True, right=False)\n",
    "tab_freq_spi = tab_freq_spi.value_counts(sort=False)\n",
    "\n",
    "tab_freq_spi = pd.DataFrame({\"Freq.\": tab_freq_spi})\n",
    "tab_freq_spi['Acum.'] = tab_freq_spi['Freq.'].cumsum()\n",
    "tab_freq_spi['Rel. (%)'] = ((tab_freq_spi['Freq.']/tab_freq_spi['Freq.'].sum())*100)\n",
    "tab_freq_spi['Rel. Acum. (%)'] = tab_freq_spi['Rel. (%)'].cumsum()\n",
    "\n",
    "tab_freq_spi"
   ]
  },
  {
   "cell_type": "code",
   "execution_count": 24,
   "metadata": {},
   "outputs": [
    {
     "data": {
      "text/plain": [
       "Freq.               int64\n",
       "Acum.               int64\n",
       "Rel. (%)          float64\n",
       "Rel. Acum. (%)    float64\n",
       "dtype: object"
      ]
     },
     "execution_count": 24,
     "metadata": {},
     "output_type": "execute_result"
    }
   ],
   "source": [
    "tab_freq_spi.dtypes"
   ]
  },
  {
   "cell_type": "code",
   "execution_count": 25,
   "metadata": {},
   "outputs": [
    {
     "data": {
      "text/html": [
       "<div>\n",
       "<style scoped>\n",
       "    .dataframe tbody tr th:only-of-type {\n",
       "        vertical-align: middle;\n",
       "    }\n",
       "\n",
       "    .dataframe tbody tr th {\n",
       "        vertical-align: top;\n",
       "    }\n",
       "\n",
       "    .dataframe thead th {\n",
       "        text-align: right;\n",
       "    }\n",
       "</style>\n",
       "<table border=\"1\" class=\"dataframe\">\n",
       "  <thead>\n",
       "    <tr style=\"text-align: right;\">\n",
       "      <th></th>\n",
       "      <th>Rating Ofensivo</th>\n",
       "      <th>Rating Defensivo</th>\n",
       "      <th>Rating de Força Futebolística</th>\n",
       "    </tr>\n",
       "  </thead>\n",
       "  <tbody>\n",
       "    <tr>\n",
       "      <th>count</th>\n",
       "      <td>629.000000</td>\n",
       "      <td>629.000000</td>\n",
       "      <td>629.000000</td>\n",
       "    </tr>\n",
       "    <tr>\n",
       "      <th>mean</th>\n",
       "      <td>1.226184</td>\n",
       "      <td>1.432544</td>\n",
       "      <td>41.420397</td>\n",
       "    </tr>\n",
       "    <tr>\n",
       "      <th>std</th>\n",
       "      <td>0.499345</td>\n",
       "      <td>0.445965</td>\n",
       "      <td>18.661617</td>\n",
       "    </tr>\n",
       "    <tr>\n",
       "      <th>min</th>\n",
       "      <td>0.200000</td>\n",
       "      <td>0.210000</td>\n",
       "      <td>5.850000</td>\n",
       "    </tr>\n",
       "    <tr>\n",
       "      <th>25%</th>\n",
       "      <td>0.870000</td>\n",
       "      <td>1.130000</td>\n",
       "      <td>27.560000</td>\n",
       "    </tr>\n",
       "    <tr>\n",
       "      <th>50%</th>\n",
       "      <td>1.190000</td>\n",
       "      <td>1.430000</td>\n",
       "      <td>39.430000</td>\n",
       "    </tr>\n",
       "    <tr>\n",
       "      <th>75%</th>\n",
       "      <td>1.530000</td>\n",
       "      <td>1.740000</td>\n",
       "      <td>54.920000</td>\n",
       "    </tr>\n",
       "    <tr>\n",
       "      <th>max</th>\n",
       "      <td>3.500000</td>\n",
       "      <td>2.640000</td>\n",
       "      <td>94.800000</td>\n",
       "    </tr>\n",
       "  </tbody>\n",
       "</table>\n",
       "</div>"
      ],
      "text/plain": [
       "       Rating Ofensivo  Rating Defensivo  Rating de Força Futebolística\n",
       "count       629.000000        629.000000                     629.000000\n",
       "mean          1.226184          1.432544                      41.420397\n",
       "std           0.499345          0.445965                      18.661617\n",
       "min           0.200000          0.210000                       5.850000\n",
       "25%           0.870000          1.130000                      27.560000\n",
       "50%           1.190000          1.430000                      39.430000\n",
       "75%           1.530000          1.740000                      54.920000\n",
       "max           3.500000          2.640000                      94.800000"
      ]
     },
     "execution_count": 25,
     "metadata": {},
     "output_type": "execute_result"
    }
   ],
   "source": [
    "dados[continua].describe()"
   ]
  },
  {
   "cell_type": "markdown",
   "metadata": {},
   "source": [
    "### 5. Visualizando as informações estátisticas"
   ]
  },
  {
   "cell_type": "markdown",
   "metadata": {},
   "source": [
    "$\\textit{Gráfico Massa de Probabilidade para Variáveis Discretas:}$"
   ]
  },
  {
   "cell_type": "code",
   "execution_count": 26,
   "metadata": {},
   "outputs": [
    {
     "data": {
      "image/png": "[encoded data removed]",
      "text/plain": [
       "<Figure size 432x288 with 1 Axes>"
      ]
     },
     "metadata": {
      "needs_background": "light"
     },
     "output_type": "display_data"
    }
   ],
   "source": [
    "tab_freq_liga['Rel. (%)'].plot(kind='bar',zorder=2)\n",
    "plt.grid(axis='y', zorder=1)\n",
    "plt.rcParams['figure.figsize'] = (15,10) \n",
    "plt.xticks(fontsize = 10, rotation=90)\n",
    "plt.ylim(0,10)\n",
    "plt.ylabel(r'Frequência Relativa (%)')\n",
    "plt.title('Frequência ')\n",
    "\n",
    "plt.plot()\n",
    "plt.show()"
   ]
  },
  {
   "cell_type": "markdown",
   "metadata": {},
   "source": [
    "Esse gráfico nos dá a frequência relativa (probabilidade) de algum clube da lista participar de alguma dessas ligas. "
   ]
  },
  {
   "cell_type": "markdown",
   "metadata": {},
   "source": [
    "$\\textit{Gráficos Densidade de Kernel para Variáveis Contínuas:}$"
   ]
  },
  {
   "cell_type": "code",
   "execution_count": 27,
   "metadata": {
    "scrolled": true
   },
   "outputs": [
    {
     "data": {
      "image/png": "[encoded data removed]",
      "text/plain": [
       "<Figure size 1080x720 with 1 Axes>"
      ]
     },
     "metadata": {
      "needs_background": "light"
     },
     "output_type": "display_data"
    }
   ],
   "source": [
    "sns.distplot(dados['Rating de Força Futebolística'], hist=True, kde=True, \n",
    "             bins=int(180/5), color = 'darkblue', \n",
    "             hist_kws={'edgecolor':'black'},\n",
    "             kde_kws={'linewidth': 4})\n",
    "plt.plot()\n",
    "plt.show()"
   ]
  },
  {
   "cell_type": "code",
   "execution_count": 28,
   "metadata": {},
   "outputs": [
    {
     "data": {
      "image/png": "[encoded data removed]",
      "text/plain": [
       "<Figure size 1080x720 with 1 Axes>"
      ]
     },
     "metadata": {
      "needs_background": "light"
     },
     "output_type": "display_data"
    }
   ],
   "source": [
    "sns.distplot(dados['Rating Ofensivo'], hist=True, kde=True, \n",
    "             bins=int(180/5), color = 'darkblue', \n",
    "             hist_kws={'edgecolor':'black'},\n",
    "             kde_kws={'linewidth': 4})\n",
    "plt.plot()\n",
    "plt.show()"
   ]
  },
  {
   "cell_type": "code",
   "execution_count": 29,
   "metadata": {},
   "outputs": [
    {
     "data": {
      "image/png": "[encoded data removed]",
      "text/plain": [
       "<Figure size 1080x720 with 1 Axes>"
      ]
     },
     "metadata": {
      "needs_background": "light"
     },
     "output_type": "display_data"
    }
   ],
   "source": [
    "sns.distplot(dados['Rating Defensivo'], hist=True, kde=True, \n",
    "             bins=int(180/5), color = 'darkblue', \n",
    "             hist_kws={'edgecolor':'black'},\n",
    "             kde_kws={'linewidth': 4})\n",
    "plt.plot()\n",
    "plt.show()"
   ]
  },
  {
   "cell_type": "markdown",
   "metadata": {},
   "source": [
    "Gráfico de densidade pela estimativa da densidade de Kernel de uma versão contínua e suave de um histograma estimado a partir dos dados.\n",
    "Nesse método, uma curva contínua (o kernel) é desenhada em todos os pontos de dados individuais e todas essas curvas são adicionadas juntas para fazer uma única estimativa de densidade suave. O kernel mais usado é um gaussiano (que produz uma curva de sino gaussiano em cada ponto de dados). \n",
    "O eixo x é o valor da variável como em um histograma. O eixo y é a função de densidade de probabilidade para a estimativa da densidade do kernel."
   ]
  },
  {
   "cell_type": "markdown",
   "metadata": {},
   "source": [
    "$\\textit{Gráficos de Distribuição Acumulativa para Variáveis Contínuas:}$"
   ]
  },
  {
   "cell_type": "code",
   "execution_count": 30,
   "metadata": {},
   "outputs": [
    {
     "data": {
      "image/png": "[encoded data removed]",
      "text/plain": [
       "<Figure size 1080x720 with 1 Axes>"
      ]
     },
     "metadata": {
      "needs_background": "light"
     },
     "output_type": "display_data"
    }
   ],
   "source": [
    "x = np.sort(dados['Rating de Força Futebolística']) \n",
    "func = sm.distributions.empirical_distribution.ECDF(x) \n",
    "y = func(x) \n",
    "plt.title('CDF')\n",
    "plt.xlabel('Rating de Força Futebolística')\n",
    "plt.ylabel('F(x) = P([X <= x])')\n",
    "plt.plot(x, y, marker = ',')\n",
    "plt.rcParams['figure.figsize'] = (15,7) \n",
    "plt.show()"
   ]
  },
  {
   "cell_type": "code",
   "execution_count": 31,
   "metadata": {},
   "outputs": [
    {
     "data": {
      "image/png": "[encoded data removed]",
      "text/plain": [
       "<Figure size 1080x504 with 1 Axes>"
      ]
     },
     "metadata": {
      "needs_background": "light"
     },
     "output_type": "display_data"
    }
   ],
   "source": [
    "x = np.sort(dados['Rating Ofensivo']) \n",
    "func = sm.distributions.empirical_distribution.ECDF(x) \n",
    "y = func(x)\n",
    "plt.title('CDF')\n",
    "plt.xlabel('Rating Ofensivo')\n",
    "plt.ylabel('F(x) = P([X <= x])')\n",
    "plt.plot(x, y, marker = ',')\n",
    "plt.rcParams['figure.figsize'] = (15,7) \n",
    "plt.show()"
   ]
  },
  {
   "cell_type": "code",
   "execution_count": 32,
   "metadata": {},
   "outputs": [
    {
     "data": {
      "image/png": "[encoded data removed]",
      "text/plain": [
       "<Figure size 1080x504 with 1 Axes>"
      ]
     },
     "metadata": {
      "needs_background": "light"
     },
     "output_type": "display_data"
    }
   ],
   "source": [
    "x = np.sort(dados['Rating Defensivo'])  \n",
    "func = sm.distributions.empirical_distribution.ECDF(x) \n",
    "y = func(x) \n",
    "plt.title('CDF')\n",
    "plt.xlabel('Rating Defensivo')\n",
    "plt.ylabel('F(x) = P([X <= x])')\n",
    "plt.plot(x, y, marker = ',')\n",
    "plt.rcParams['figure.figsize'] = (15,7) \n",
    "plt.show()"
   ]
  },
  {
   "cell_type": "markdown",
   "metadata": {},
   "source": [
    "$\\textit{Gráficos de Distribuição de Densidade para Variáveis Contínuas:}$"
   ]
  },
  {
   "cell_type": "code",
   "execution_count": 33,
   "metadata": {},
   "outputs": [
    {
     "data": {
      "image/png": "[encoded data removed]",
      "text/plain": [
       "<Figure size 1080x504 with 1 Axes>"
      ]
     },
     "metadata": {
      "needs_background": "light"
     },
     "output_type": "display_data"
    }
   ],
   "source": [
    "ax = dados['Rating de Força Futebolística'].plot(kind='hist', density=True, histtype='bar', rwidth=1,\n",
    "xlim=(min(dados['Rating de Força Futebolística'])-0.05, max(dados['Rating de Força Futebolística'])+0.05), ylim=(0,0.05), \n",
    " legend=False, bins=np.arange(len(dados['Rating de Força Futebolística']))-0.5)\n",
    "ax.set_xlabel(r'Avaliação de Força Futebolística')\n",
    "ax.set_ylabel(r'$F(X)$')\n",
    "plt.rcParams['figure.figsize'] = (15,7) \n"
   ]
  },
  {
   "cell_type": "code",
   "execution_count": 34,
   "metadata": {},
   "outputs": [
    {
     "data": {
      "image/png": "[encoded data removed]",
      "text/plain": [
       "<Figure size 1080x504 with 1 Axes>"
      ]
     },
     "metadata": {
      "needs_background": "light"
     },
     "output_type": "display_data"
    }
   ],
   "source": [
    "ax = dados['Rating Ofensivo'].plot(kind='hist', density=True, histtype='bar', rwidth=1,\n",
    "                     xlim=(min(dados['Rating Ofensivo'])-0.05, max(dados['Rating Ofensivo'])+0.05), ylim=(0,0.05), \n",
    "                     legend=False, bins=np.arange(len(dados['Rating Ofensivo']))-0.5)\n",
    "ax.set_xlabel(r'Avaliação Ofensiva')\n",
    "ax.set_ylabel(r'$F(X)$')\n",
    "plt.rcParams['figure.figsize'] = (15,7) \n"
   ]
  },
  {
   "cell_type": "code",
   "execution_count": 35,
   "metadata": {},
   "outputs": [
    {
     "data": {
      "image/png": "[encoded data removed]",
      "text/plain": [
       "<Figure size 1080x504 with 1 Axes>"
      ]
     },
     "metadata": {
      "needs_background": "light"
     },
     "output_type": "display_data"
    }
   ],
   "source": [
    "ax = dados['Rating Defensivo'].plot(kind='hist', density=True, histtype='bar', rwidth=1,\n",
    "                     xlim=(min(dados['Rating Defensivo'])-0.05, max(dados['Rating Defensivo'])+0.05), ylim=(0,0.05), \n",
    "                     legend=False, bins=np.arange(len(dados['Rating Defensivo']))-0.5)\n",
    "ax.set_xlabel(r'Avaliação Defensiva')\n",
    "ax.set_ylabel(r'$F(X)$')\n",
    "plt.rcParams['figure.figsize'] = (15,7) "
   ]
  },
  {
   "cell_type": "markdown",
   "metadata": {},
   "source": [
    "### 6. Teste Kolmogorov-Smirnov\n",
    "Aplica-se o teste Kolmogorov-Smirnov com o objetivo de comprovação da hipótese nula ($H_0$), que afirma a normalidade da distribuição amostral. Para tal, procuram-se p-values superiores a 0.8, conforme o especificado. Nesse contexto, duas amostras são selecionadas."
   ]
  },
  {
   "cell_type": "code",
   "execution_count": 36,
   "metadata": {},
   "outputs": [
    {
     "data": {
      "text/plain": [
       "array([94.8 , 94.44, 91.91, 90.33, 89.49, 89.15, 88.09, 86.23, 85.54,\n",
       "       85.38, 84.28, 83.78, 82.94, 82.78, 81.58, 81.31, 80.53, 80.28,\n",
       "       79.48, 77.72, 77.04, 76.77, 76.75, 76.59, 76.44, 75.89, 75.15,\n",
       "       75.14, 75.14, 74.53, 73.91, 73.8 , 73.73, 73.46, 73.32, 73.31,\n",
       "       73.27, 72.81, 72.48, 72.46, 71.87, 71.79, 71.79, 71.17, 70.91,\n",
       "       70.78, 70.69, 70.62, 70.53, 70.41, 70.37, 70.27, 69.72, 69.46,\n",
       "       69.26, 68.56, 68.49, 68.44, 68.31, 67.97, 67.91, 67.88, 67.69,\n",
       "       67.62, 67.48, 67.27, 67.12, 67.02, 66.94, 66.83, 66.82, 66.62,\n",
       "       66.32, 65.68, 65.63, 65.48, 65.45, 65.4 , 64.92, 64.81, 64.59,\n",
       "       64.31, 64.05, 63.87, 63.66, 63.52, 63.4 , 63.19, 62.78, 62.75,\n",
       "       62.72, 62.68, 62.55, 62.51, 62.44, 62.42, 62.24, 62.05, 62.05,\n",
       "       61.97, 61.88, 61.79, 61.76, 61.68, 61.63, 61.63, 61.55, 61.51,\n",
       "       61.23, 61.02, 60.98, 60.47, 60.28, 60.28, 60.25, 60.13, 60.08,\n",
       "       59.94, 59.67, 59.63, 58.85, 58.74, 58.71, 58.37, 58.34, 58.25,\n",
       "       58.19, 58.14, 58.05, 58.  , 57.78, 57.47, 57.32, 57.26, 57.21,\n",
       "       57.05, 56.78, 56.48, 56.38, 56.28, 56.21, 56.16, 56.11, 56.09,\n",
       "       56.05, 56.03, 55.9 , 55.76, 55.7 , 55.69, 55.61, 55.51, 55.45,\n",
       "       55.34, 55.21, 55.09, 55.03, 54.92, 54.27, 54.14, 54.01, 53.66,\n",
       "       53.62, 53.34, 53.26, 53.19, 53.14, 53.01, 52.99, 52.71, 52.7 ,\n",
       "       52.63, 52.62, 52.59, 52.54, 52.29, 52.21, 52.14, 51.81, 51.72,\n",
       "       51.6 , 51.49, 51.28, 51.15, 50.91, 50.9 , 50.88, 50.83, 50.79,\n",
       "       50.65, 50.48, 50.06, 49.97, 49.87, 49.81, 49.57, 49.46, 49.37,\n",
       "       49.34, 49.33, 49.29, 48.88, 48.83, 48.78, 48.71, 48.63, 48.58,\n",
       "       48.56, 48.55, 48.53, 48.53, 48.4 , 48.12, 48.05, 48.02, 47.99,\n",
       "       47.98, 47.85, 47.56, 47.52, 47.26, 47.11, 47.1 , 47.08, 47.06,\n",
       "       47.05, 46.89, 46.71, 46.6 , 46.36, 46.35, 46.29, 46.04, 46.  ,\n",
       "       45.69, 45.68, 45.66, 45.57, 45.39, 45.31, 45.26, 45.04, 45.02,\n",
       "       44.96, 44.93, 44.86, 44.82, 44.65, 44.41, 44.27, 44.25, 44.11,\n",
       "       44.09, 44.07, 43.93, 43.64, 43.55, 43.47, 43.43, 43.37, 43.35,\n",
       "       43.31, 43.14, 43.  , 42.94, 42.88, 42.87, 42.82, 42.74, 42.73,\n",
       "       42.72, 42.6 , 42.55, 42.53, 42.37, 42.31, 42.14, 42.13, 42.1 ,\n",
       "       42.09, 42.02, 41.98, 41.83, 41.8 , 41.78, 41.5 , 41.44, 41.4 ,\n",
       "       41.32, 41.23, 41.22, 41.18, 41.09, 41.08, 40.96, 40.92, 40.91,\n",
       "       40.7 , 40.64, 40.54, 40.5 , 40.39, 40.35, 40.3 , 40.27, 40.27,\n",
       "       40.23, 40.11, 40.01, 39.84, 39.67, 39.66, 39.62, 39.58, 39.43,\n",
       "       39.39, 39.37, 39.26, 39.16, 39.15, 39.15, 39.14, 39.  , 38.9 ,\n",
       "       38.84, 38.75, 38.7 , 38.68, 38.64, 38.62, 38.55, 38.5 , 38.4 ,\n",
       "       38.24, 38.22, 38.16, 38.14, 38.12, 38.09, 38.08, 38.03, 37.93,\n",
       "       37.85, 37.71, 37.71, 37.68, 37.62, 37.48, 37.47, 37.45, 37.34,\n",
       "       37.32, 37.16, 37.14, 37.11, 36.69, 36.66, 36.6 , 36.45, 36.44,\n",
       "       36.44, 36.33, 36.09, 36.08, 35.87, 35.85, 35.82, 35.81, 35.74,\n",
       "       35.74, 35.71, 35.56, 35.31, 35.22, 35.2 , 35.14, 35.1 , 34.91,\n",
       "       34.89, 34.78, 34.74, 34.73, 34.57, 34.53, 34.48, 34.11, 34.11,\n",
       "       33.73, 33.73, 33.65, 33.65, 33.63, 33.56, 33.51, 33.39, 33.38,\n",
       "       33.38, 33.38, 33.25, 33.25, 33.21, 33.16, 33.12, 33.11, 32.96,\n",
       "       32.92, 32.76, 32.7 , 32.64, 32.18, 31.91, 31.85, 31.75, 31.56,\n",
       "       31.49, 31.46, 31.41, 31.15, 31.12, 31.05, 31.04, 31.02, 30.89,\n",
       "       30.79, 30.5 , 30.48, 30.47, 30.42, 30.38, 30.35, 30.34, 30.11,\n",
       "       30.06, 29.97, 29.95, 29.95, 29.89, 29.84, 29.76, 29.68, 29.64,\n",
       "       29.57, 29.56, 29.55, 29.51, 29.4 , 29.24, 29.15, 29.13, 29.09,\n",
       "       29.  , 29.  , 28.85, 28.72, 28.53, 28.49, 28.44, 28.42, 28.27,\n",
       "       28.24, 28.17, 28.06, 28.03, 27.95, 27.92, 27.88, 27.85, 27.74,\n",
       "       27.69, 27.64, 27.57, 27.56, 27.53, 27.53, 27.3 , 27.27, 27.24,\n",
       "       27.07, 27.01, 26.87, 26.81, 26.75, 26.7 , 26.69, 26.62, 26.55,\n",
       "       26.54, 26.51, 26.49, 26.23, 26.11, 25.91, 25.85, 25.81, 25.8 ,\n",
       "       25.72, 25.61, 25.45, 25.41, 25.37, 25.06, 25.01, 24.89, 24.89,\n",
       "       24.83, 24.74, 24.62, 24.53, 24.49, 24.28, 24.08, 24.05, 24.05,\n",
       "       23.92, 23.91, 23.81, 23.75, 23.51, 23.5 , 23.38, 23.23, 23.1 ,\n",
       "       23.04, 22.95, 22.94, 22.91, 22.8 , 22.79, 22.77, 22.76, 22.74,\n",
       "       22.37, 22.29, 22.27, 22.03, 21.87, 21.86, 21.8 , 21.77, 21.31,\n",
       "       21.18, 20.91, 20.7 , 20.51, 20.46, 20.35, 20.34, 20.3 , 20.2 ,\n",
       "       20.19, 20.12, 19.81, 19.65, 19.39, 19.27, 19.26, 19.21, 19.15,\n",
       "       19.07, 19.01, 18.95, 18.7 , 18.61, 18.39, 18.38, 18.17, 18.  ,\n",
       "       17.88, 17.78, 17.77, 17.61, 17.58, 17.5 , 17.45, 17.15, 17.14,\n",
       "       17.  , 16.59, 15.92, 15.71, 15.58, 15.52, 15.43, 15.41, 14.96,\n",
       "       14.93, 14.7 , 14.7 , 14.47, 14.25, 14.11, 13.99, 13.92, 13.48,\n",
       "       13.37, 13.23, 12.85, 12.84, 12.62, 12.43, 12.42, 12.29, 12.01,\n",
       "       12.01, 11.88, 11.76, 11.75, 11.73, 11.62, 11.1 , 10.98, 10.91,\n",
       "       10.33, 10.24,  9.99,  9.91,  9.8 ,  9.7 ,  9.49,  8.01,  7.65,\n",
       "        7.51,  7.44,  7.19,  6.9 ,  6.56,  6.42,  6.39,  5.85])"
      ]
     },
     "execution_count": 36,
     "metadata": {},
     "output_type": "execute_result"
    }
   ],
   "source": [
    "x1 = dados['Rating Ofensivo']\n",
    "y1 = dados['Rating Defensivo']\n",
    "z1 = dados['Rating de Força Futebolística']\n",
    "x1.to_numpy()\n",
    "y1.to_numpy()\n",
    "z1.to_numpy()"
   ]
  },
  {
   "cell_type": "code",
   "execution_count": 37,
   "metadata": {},
   "outputs": [
    {
     "name": "stdout",
     "output_type": "stream",
     "text": [
      "Rating Ofensivo, \n",
      "p-value= KstestResult(statistic=0.6449307249729884, pvalue=1.6223156750141128e-255)\n",
      "Rating Defensivo, \n",
      "p-value= KstestResult(statistic=0.7164305038835223, pvalue=0.0)\n",
      "Rating de Força Futebolística, \n",
      "p-value= KstestResult(statistic=0.999999997542135, pvalue=0.0)\n"
     ]
    }
   ],
   "source": [
    "ks1 = scs.kstest(x1, 'norm')\n",
    "ks2 = scs.kstest(y1, 'norm')\n",
    "ks3 = scs.kstest(z1, 'norm')\n",
    "\n",
    "print(\"Rating Ofensivo, \\np-value=\", ks1)\n",
    "print(\"Rating Defensivo, \\np-value=\", ks2)\n",
    "print(\"Rating de Força Futebolística, \\np-value=\", ks3)"
   ]
  },
  {
   "cell_type": "markdown",
   "metadata": {},
   "source": [
    "Os baixíssimos valores do p-value < 0.001 rejeitam a chance de constatação da Hipótese Nula ($H_0$), que afirma a normalidade da distribuição amostral.\n",
    "\n",
    "É importante frisar que os valores p-value=0 não é uma verdade, mas uma aproximação. Pois sempre há uma chance de obter os resultados da Hipótese Nula ($H_0$), por menor ou improvável que seja a chance.\n",
    "É provavel que a hipótese nula tenha sido rejeitada pelo tamanho da amostra.\n",
    "\n",
    "Vamos tentar provar que há diferença entre os alvos da comparação estatística, confirmando a Hipótese Alternativa ($H_1$)."
   ]
  },
  {
   "cell_type": "markdown",
   "metadata": {},
   "source": [
    "#### 6.1 Avaliação pelo Teste de Shapiro"
   ]
  },
  {
   "cell_type": "code",
   "execution_count": 38,
   "metadata": {},
   "outputs": [
    {
     "name": "stdout",
     "output_type": "stream",
     "text": [
      "Rating Ofensivo, \n",
      "p-value= (0.9749813079833984, 6.880295444489093e-09)\n",
      "Rating Defensivo, \n",
      "p-value= (0.9978125095367432, 0.5953747630119324)\n",
      "Rating de Força Futebolística, \n",
      "p-value= KstestResult(statistic=0.999999997542135, pvalue=0.0)\n"
     ]
    }
   ],
   "source": [
    "s1 = scs.shapiro(x1)\n",
    "s2 = scs.shapiro(y1)\n",
    "s3 = scs.shapiro(z1)\n",
    "\n",
    "print(\"Rating Ofensivo, \\np-value=\", s1)\n",
    "print(\"Rating Defensivo, \\np-value=\", s2)\n",
    "print(\"Rating de Força Futebolística, \\np-value=\", ks3)"
   ]
  },
  {
   "cell_type": "code",
   "execution_count": 39,
   "metadata": {},
   "outputs": [
    {
     "name": "stdout",
     "output_type": "stream",
     "text": [
      "(0.9978125095367432, 0.5953747630119324)\n"
     ]
    },
    {
     "data": {
      "image/png": "[encoded data removed]",
      "text/plain": [
       "<Figure size 1080x504 with 1 Axes>"
      ]
     },
     "metadata": {
      "needs_background": "light"
     },
     "output_type": "display_data"
    }
   ],
   "source": [
    "sns.distplot(y1, bins=range(0,4,1), fit=scs.norm, kde=False)\n",
    "print(s2)\n",
    "\n",
    "plt.text(0, 0.8, 'Shapiro: '+str(round(s2[1], 5) ), bbox=dict(facecolor='red', alpha=0.4), zorder=4 )\n",
    "plt.show()"
   ]
  },
  {
   "cell_type": "markdown",
   "metadata": {},
   "source": [
    "O teste de Shapiro é independente do tamanho da amostra.\n",
    "Por este metódo a única mudança significativa analisando os resultados foram os dados de Rating Defensivo. Porém, o p-value continuou abaixo de 5%. Logo, rejeitamos a hipótese nula novamente.\n"
   ]
  },
  {
   "cell_type": "markdown",
   "metadata": {},
   "source": [
    "### 7. Regressão e Predição"
   ]
  },
  {
   "cell_type": "code",
   "execution_count": 40,
   "metadata": {},
   "outputs": [
    {
     "data": {
      "image/png": "[encoded data removed]",
      "text/plain": [
       "<Figure size 540x540 with 12 Axes>"
      ]
     },
     "metadata": {
      "needs_background": "light"
     },
     "output_type": "display_data"
    }
   ],
   "source": [
    "Y = dados[continua]\n",
    "g=sns.pairplot(Y)\n"
   ]
  },
  {
   "cell_type": "markdown",
   "metadata": {},
   "source": [
    "Gráfico matriz de dispersão, onde as diagonais nos mostram o a distribuição de uma única variável em formato de histograma. Enquanto as matrizes triangular inferior e superior mostram a relação entre duas variáveis. "
   ]
  },
  {
   "cell_type": "code",
   "execution_count": null,
   "metadata": {},
   "outputs": [],
   "source": [
    "corr = dados.corr()"
   ]
  },
  {
   "cell_type": "code",
   "execution_count": null,
   "metadata": {},
   "outputs": [],
   "source": [
    "plt.gcf()\n",
    "sns.heatmap(corr, linewidths=.5, annot=True)\n",
    "lim_y = plt.ylim()\n",
    "plt.ylim(lim_y[0]+0.5, lim_y[1]-0.5)\n",
    "plt.yticks(rotation=0,va=\"center\")\n",
    "plt.show()"
   ]
  },
  {
   "cell_type": "code",
   "execution_count": null,
   "metadata": {},
   "outputs": [],
   "source": [
    "cor = Y.corr()\n",
    "cor"
   ]
  },
  {
   "cell_type": "markdown",
   "metadata": {},
   "source": [
    "Como observado, a correlação para Rating Ofensivo e Defensivo com o Rating de Força Futebolística é muito forte. Pois os melhores times fazem muito gols e levam poucos gols. Logo, nos melhores times, o Rating Ofensivo  é alto e por isso correlação positiva e o Rating Defensivo é baixo e por isso sua correlação negativa.\n",
    "\n",
    "Podemos perceber que a correlação entre Rating Ofensivo(Gols feitos) x Rating Defensivo(Gols levados) é forte. Pois  também é possível existirem times que fazem muitos gols e levam muitos gols."
   ]
  },
  {
   "cell_type": "markdown",
   "metadata": {},
   "source": [
    "### 7.1 Qualificando a Regressão por Mínimos Quadrados\n",
    "\n",
    "Calculamos a regressão de mínimos quadrados para dois conjuntos de medidas."
   ]
  },
  {
   "cell_type": "markdown",
   "metadata": {},
   "source": [
    "A função scipy.stats.linregress calcula uma regressão de mínimos quadrados para dois conjuntos de medidas:\n",
    "E retorna: a inclinação, interceptação, rvalue, pvalue, erro padrão da estimativa."
   ]
  },
  {
   "cell_type": "code",
   "execution_count": null,
   "metadata": {},
   "outputs": [],
   "source": [
    "z2 = z1.values"
   ]
  },
  {
   "cell_type": "markdown",
   "metadata": {},
   "source": [
    "$\\textit{Conjunto Rating Ofensivo x Rating Defensivo}$\n"
   ]
  },
  {
   "cell_type": "code",
   "execution_count": null,
   "metadata": {},
   "outputs": [],
   "source": [
    "b0, b1, r, pvalue, stder  = scs.stats.linregress(x1,y1)\n",
    "print('Parâmetros: b0 =', b0, 'b1 =', b1)\n",
    "print('Valor para o teste de hipótese que a inclinação é nula', pvalue)\n",
    "print(\"Coeficiente de Determininação:\", r**2)\n",
    "print(\"Desvio padrão da estimativa:\", stder)"
   ]
  },
  {
   "cell_type": "markdown",
   "metadata": {},
   "source": [
    "Coeficiente de Determinação não indica uma boa qualidade de regressão, porém o desvio padrão dos erros indicam uma baixa variabilidade. Pelo teste de hipótese não podemos considerar a inclinação nula."
   ]
  },
  {
   "cell_type": "code",
   "execution_count": null,
   "metadata": {},
   "outputs": [],
   "source": [
    "plt.scatter(x1, y1)\n",
    "b0, b1, r, pvalue, stder  = scs.stats.linregress(x1,y1)\n",
    "x_1 = np.linspace(x1.min(), y1.max(), 100)\n",
    "plt.plot(x_1, b0*x_1+b1, 'red')\n",
    "plt.text(3,2.8, r'$Y = \\alpha X + \\beta$' +'\\nY = '+str(round(b0, 3))+'X+'+str(round(b1, 3)), bbox=dict(facecolor='red', alpha=0.4))\n",
    "plt.title('Regressão Linear para Rating Ofensivo')\n",
    "plt.show()"
   ]
  },
  {
   "cell_type": "markdown",
   "metadata": {},
   "source": [
    "$\\textit{Conjunto Rating Defensivo x Rating Ofensivo}$\n"
   ]
  },
  {
   "cell_type": "code",
   "execution_count": null,
   "metadata": {},
   "outputs": [],
   "source": [
    "b0, b1, r, pvalue, stder = scs.stats.linregress(y1,x1)\n",
    "print('Parâmetros: b0 =', b0, 'b1 =', b1)\n",
    "print('Valor para o teste de hipótese que a inclinação é nula', pvalue)\n",
    "print(\"Coeficiente de Determininação:\", r**2)\n",
    "print(\"Desvio padrão da estimativa:\", stder)"
   ]
  },
  {
   "cell_type": "markdown",
   "metadata": {},
   "source": [
    "Coeficiente de Determinação não indica uma boa qualidade de regressão, porém o desvio padrão dos erros indicam uma baixa variabilidade. Pelo teste de hipótese não podemos considerar a inclinação nula."
   ]
  },
  {
   "cell_type": "code",
   "execution_count": null,
   "metadata": {},
   "outputs": [],
   "source": [
    "plt.scatter(y1, x1)\n",
    "b0, b1, r, pvalue, stder  = scs.stats.linregress(y1,x1)\n",
    "x_1 = np.linspace(y1.min(), x1.max(), 100)\n",
    "plt.plot(x_1, b0*x_1+b1, 'red')\n",
    "plt.text(3,2.8, r'$Y = \\alpha X + \\beta$' +'\\nY = '+str(round(b0, 3))+'X+'+str(round(b1, 3)), bbox=dict(facecolor='red', alpha=0.4))\n",
    "plt.title('Regressão Linear para Rating Defensivo')\n",
    "plt.show()"
   ]
  },
  {
   "cell_type": "markdown",
   "metadata": {},
   "source": [
    "$\\textit{Conjunto Rating Ofensivo x Rating de Força Futebolística}$\n"
   ]
  },
  {
   "cell_type": "code",
   "execution_count": null,
   "metadata": {},
   "outputs": [],
   "source": [
    "b0, b1, r, pvalue, stder = scs.stats.linregress(x1,z2)\n",
    "print('Parâmetros: b0 =', b0, 'b1 =', b1)\n",
    "print('Valor para o teste de hipótese que a inclinação é nula', pvalue)\n",
    "print(\"Coeficiente de Determininação:\", r**2)\n",
    "print(\"Desvio padrão da estimativa:\", stder)"
   ]
  },
  {
   "cell_type": "markdown",
   "metadata": {},
   "source": [
    "Coeficiente de Determinação indica uma boa qualidade de regressão, e o desvio padrão dos erros indicam uma baixa variabilidade. Pelo teste de hipótese não podemos considerar a inclinação nula."
   ]
  },
  {
   "cell_type": "markdown",
   "metadata": {},
   "source": [
    "$\\textit{Conjunto Rating Defensivo x Rating de Força Futebolística}$\n"
   ]
  },
  {
   "cell_type": "code",
   "execution_count": null,
   "metadata": {},
   "outputs": [],
   "source": [
    "b0, b1, r, pvalue, stder = scs.stats.linregress(y1,z2)\n",
    "print('Parâmetros: b0 =', b0, 'b1 =', b1)\n",
    "print('Valor para o teste de hipótese que a inclinação é nula', pvalue)\n",
    "print(\"Coeficiente de Determininação:\", r**2)\n",
    "print(\"Desvio padrão da estimativa:\", stder)"
   ]
  },
  {
   "cell_type": "markdown",
   "metadata": {},
   "source": [
    "Coeficiente de Determinação  indica uma boa qualidade de regressão, e o desvio padrão dos erros indicam uma baixa variabilidade. Pelo teste de hipótese não podemos considerar a inclinação nula."
   ]
  },
  {
   "cell_type": "markdown",
   "metadata": {},
   "source": [
    "A partir dessa análise prêvia podemos fazer um estudo mais detalhado do conjunto Rating Ofensivo x Rating de Força Futebolística pois foi o que apresentou melhor coeficiente de determinação.\n"
   ]
  },
  {
   "cell_type": "code",
   "execution_count": null,
   "metadata": {},
   "outputs": [],
   "source": [
    "xm = stats.mean(x1)\n",
    "ym = stats.mean(z2)\n",
    "xy = np.multiply(x1,z2)\n",
    "sxy = sum(xy)\n",
    "xx = np.multiply(x1,x1)\n",
    "sxx = sum(xx)\n",
    "n = len(x1)\n",
    "\n",
    "b1 = (sxy-n*xm*ym)/(sxx-n*xm*xm)\n",
    "b0 = ym-b1*xm\n",
    "\n",
    "est=[]\n",
    "for i in range(len(x1)):\n",
    "    est.append(b0+(b1*x[i]))\n",
    "print(est)"
   ]
  },
  {
   "cell_type": "code",
   "execution_count": null,
   "metadata": {},
   "outputs": [],
   "source": [
    "sse=0\n",
    "for i in range(len(x1)):\n",
    "    sse+=(z2[i]-b0-b1*x1[i])*(z2[i]-b0-b1*x1[i])\n",
    "sst=0\n",
    "for i in range(len(y)):\n",
    "    sst+=(z2[i]-ym)*(z2[i]-ym)\n",
    "r=(sst-sse)/sst\n",
    "print(r)"
   ]
  },
  {
   "cell_type": "markdown",
   "metadata": {},
   "source": [
    "Confirmando o R da Função scipy.stats.linregress. Podemos concluir que a qualidade da regressão é alta."
   ]
  },
  {
   "cell_type": "code",
   "execution_count": null,
   "metadata": {},
   "outputs": [],
   "source": [
    "ey=[]\n",
    "for i in range(len(z2)):\n",
    "    ey.append(z2[i]-est[i])\n",
    "print(ey)"
   ]
  },
  {
   "cell_type": "code",
   "execution_count": null,
   "metadata": {},
   "outputs": [],
   "source": [
    "qme=sse/(n-2)\n",
    "serro=np.sqrt(qme)\n",
    "print('Desvio Padrão  dos erros:', serro)"
   ]
  },
  {
   "cell_type": "markdown",
   "metadata": {},
   "source": []
  },
  {
   "cell_type": "code",
   "execution_count": null,
   "metadata": {},
   "outputs": [],
   "source": [
    "sb0 = serro * math.sqrt(1/n+(xm*xm/(sxx-(n*(xm*xm)))))\n",
    "print('Desvio Padrão do parâmetro b0', sb0)"
   ]
  },
  {
   "cell_type": "markdown",
   "metadata": {},
   "source": []
  },
  {
   "cell_type": "code",
   "execution_count": null,
   "metadata": {},
   "outputs": [],
   "source": [
    "sb1 = serro / math.sqrt(sxx-(n*(xm*xm)))\n",
    "print('Desvio Padrão do parâmetro b1', sb1)"
   ]
  },
  {
   "cell_type": "markdown",
   "metadata": {},
   "source": [
    "### 7.2 Testes Visual de Pressuposto\n",
    "\n",
    "\n"
   ]
  },
  {
   "cell_type": "code",
   "execution_count": null,
   "metadata": {},
   "outputs": [],
   "source": [
    "plt.scatter(x1,z2)\n",
    "plt.xlabel(\"Rating Ofensivo\")\n",
    "plt.ylabel(\"Rating de Força Futebólistica\")\n",
    "plt.title(\"Teste de Linearidade\")\n",
    "plt.show()"
   ]
  },
  {
   "cell_type": "markdown",
   "metadata": {},
   "source": [
    "O teste de linearidade é bem válidado se pensarmos em uma reta ajustada aos dados."
   ]
  },
  {
   "cell_type": "code",
   "execution_count": null,
   "metadata": {},
   "outputs": [],
   "source": [
    "plt.scatter(ey,est)\n",
    "plt.xlabel(\"Estimadores\")\n",
    "plt.ylabel(\"Erros\")\n",
    "plt.title(\"Teste de Independência dos Erros\")\n",
    "plt.rcParams['figure.figsize'] = (15,7) \n",
    "plt.show()"
   ]
  },
  {
   "cell_type": "markdown",
   "metadata": {},
   "source": [
    "O erros aparentam seguir um padrão decrescente mostrando uma tendência visível, evidênciando uma dependência dos resíduos. Indicado que um modelo de regressão não linear sobre a amostra pode apresentar melhores resultados. "
   ]
  },
  {
   "cell_type": "code",
   "execution_count": null,
   "metadata": {},
   "outputs": [],
   "source": [
    "sm.qqplot(np.array(ey), scs.t, fit=True, line='45')\n",
    "plt.title(\"Erros Normais\")\n",
    "\n",
    "plt.show()"
   ]
  },
  {
   "cell_type": "markdown",
   "metadata": {},
   "source": [
    "Os erros estão seguindo uma distribuição normal. Então podemos predizer e estimar em nosso modelo. "
   ]
  },
  {
   "cell_type": "code",
   "execution_count": null,
   "metadata": {},
   "outputs": [],
   "source": [
    "mediaerros= np.mean(est)\n",
    "print(mediaerros)\n",
    "plt.scatter(ey,est)\n",
    "plt.axhline(y=mediaerros, color='r', linestyle='-')\n",
    "plt.xlabel(\"Estimadores\")\n",
    "plt.ylabel(\"Erros\")\n",
    "plt.title(\"Homocedastiticidade\")\n",
    "plt.show()\n"
   ]
  },
  {
   "cell_type": "markdown",
   "metadata": {},
   "source": [
    "A distribuição dos dados em torno da média dos resíduos está com uma tendência visivel, temos indícios que a variância dos resíduos não são homogêneas existindo heterocedasticidade. Essa tendência é um bom índicio para uso de regressão não-linear."
   ]
  }
 ],
 "metadata": {
  "kernelspec": {
   "display_name": "Python 3",
   "language": "python",
   "name": "python3"
  },
  "language_info": {
   "codemirror_mode": {
    "name": "ipython",
    "version": 3
   },
   "file_extension": ".py",
   "mimetype": "text/x-python",
   "name": "python",
   "nbconvert_exporter": "python",
   "pygments_lexer": "ipython3",
   "version": "3.7.3"
  }
 },
 "nbformat": 4,
 "nbformat_minor": 2
}
